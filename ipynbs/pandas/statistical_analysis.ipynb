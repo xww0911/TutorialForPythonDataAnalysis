{
 "cells": [
  {
   "cell_type": "markdown",
   "metadata": {},
   "source": [
    "# 统计分析\n",
    "\n",
    "pandas本身定位是表格工具,算法不是他的主要目标,所以他内置的算法只是坎坎够用,pandas本身依赖numpy,因此numpy有的统计方法他都有,比如观察他的均值方差标准差什么的,本文依然使用iris来作为源数据"
   ]
  },
  {
   "cell_type": "code",
   "execution_count": 1,
   "metadata": {
    "collapsed": true
   },
   "outputs": [],
   "source": [
    "import pandas as pd\n",
    "import matplotlib.pyplot as plt"
   ]
  },
  {
   "cell_type": "code",
   "execution_count": 2,
   "metadata": {
    "collapsed": true
   },
   "outputs": [],
   "source": [
    "%matplotlib inline"
   ]
  },
  {
   "cell_type": "code",
   "execution_count": 3,
   "metadata": {
    "collapsed": true
   },
   "outputs": [],
   "source": [
    "iris_data = pd.read_csv(\"./source/iris.data\",header = None,encoding = \"utf-8\",\n",
    "                        names=[\"sepal_length\",\"sepal_width\",\"petal_length\",\"petal_width\",\"class\"])"
   ]
  },
  {
   "cell_type": "code",
   "execution_count": 4,
   "metadata": {
    "collapsed": false
   },
   "outputs": [
    {
     "data": {
      "text/html": [
       "<div>\n",
       "<table border=\"1\" class=\"dataframe\">\n",
       "  <thead>\n",
       "    <tr style=\"text-align: right;\">\n",
       "      <th></th>\n",
       "      <th>sepal_length</th>\n",
       "      <th>sepal_width</th>\n",
       "      <th>petal_length</th>\n",
       "      <th>petal_width</th>\n",
       "    </tr>\n",
       "  </thead>\n",
       "  <tbody>\n",
       "    <tr>\n",
       "      <th>count</th>\n",
       "      <td>150.000000</td>\n",
       "      <td>150.000000</td>\n",
       "      <td>150.000000</td>\n",
       "      <td>150.000000</td>\n",
       "    </tr>\n",
       "    <tr>\n",
       "      <th>mean</th>\n",
       "      <td>5.843333</td>\n",
       "      <td>3.054000</td>\n",
       "      <td>3.758667</td>\n",
       "      <td>1.198667</td>\n",
       "    </tr>\n",
       "    <tr>\n",
       "      <th>std</th>\n",
       "      <td>0.828066</td>\n",
       "      <td>0.433594</td>\n",
       "      <td>1.764420</td>\n",
       "      <td>0.763161</td>\n",
       "    </tr>\n",
       "    <tr>\n",
       "      <th>min</th>\n",
       "      <td>4.300000</td>\n",
       "      <td>2.000000</td>\n",
       "      <td>1.000000</td>\n",
       "      <td>0.100000</td>\n",
       "    </tr>\n",
       "    <tr>\n",
       "      <th>25%</th>\n",
       "      <td>5.100000</td>\n",
       "      <td>2.800000</td>\n",
       "      <td>1.600000</td>\n",
       "      <td>0.300000</td>\n",
       "    </tr>\n",
       "    <tr>\n",
       "      <th>50%</th>\n",
       "      <td>5.800000</td>\n",
       "      <td>3.000000</td>\n",
       "      <td>4.350000</td>\n",
       "      <td>1.300000</td>\n",
       "    </tr>\n",
       "    <tr>\n",
       "      <th>75%</th>\n",
       "      <td>6.400000</td>\n",
       "      <td>3.300000</td>\n",
       "      <td>5.100000</td>\n",
       "      <td>1.800000</td>\n",
       "    </tr>\n",
       "    <tr>\n",
       "      <th>max</th>\n",
       "      <td>7.900000</td>\n",
       "      <td>4.400000</td>\n",
       "      <td>6.900000</td>\n",
       "      <td>2.500000</td>\n",
       "    </tr>\n",
       "  </tbody>\n",
       "</table>\n",
       "</div>"
      ],
      "text/plain": [
       "       sepal_length  sepal_width  petal_length  petal_width\n",
       "count    150.000000   150.000000    150.000000   150.000000\n",
       "mean       5.843333     3.054000      3.758667     1.198667\n",
       "std        0.828066     0.433594      1.764420     0.763161\n",
       "min        4.300000     2.000000      1.000000     0.100000\n",
       "25%        5.100000     2.800000      1.600000     0.300000\n",
       "50%        5.800000     3.000000      4.350000     1.300000\n",
       "75%        6.400000     3.300000      5.100000     1.800000\n",
       "max        7.900000     4.400000      6.900000     2.500000"
      ]
     },
     "execution_count": 4,
     "metadata": {},
     "output_type": "execute_result"
    }
   ],
   "source": [
    "iris_data.describe()"
   ]
  },
  {
   "cell_type": "markdown",
   "metadata": {},
   "source": [
    "可以看到各个列的最常见统计学指标"
   ]
  },
  {
   "cell_type": "markdown",
   "metadata": {},
   "source": [
    "## 相关性\n",
    "\n",
    "numpy只默认支持协方差矩阵的计算\n",
    "\n",
    "他们都可以带参数min_periods关键字，该关键字为每个列对指定所需的最小观测值数，以获得有效的结果\n",
    "\n",
    "+ 协方差矩阵"
   ]
  },
  {
   "cell_type": "code",
   "execution_count": 5,
   "metadata": {
    "collapsed": false
   },
   "outputs": [],
   "source": [
    "iris_copy = iris_data.copy()"
   ]
  },
  {
   "cell_type": "code",
   "execution_count": 6,
   "metadata": {
    "collapsed": false
   },
   "outputs": [],
   "source": [
    "iris_cov = iris_copy[iris_copy.columns[:-1]].T.cov()"
   ]
  },
  {
   "cell_type": "code",
   "execution_count": 7,
   "metadata": {
    "collapsed": false
   },
   "outputs": [
    {
     "data": {
      "text/html": [
       "<div>\n",
       "<table border=\"1\" class=\"dataframe\">\n",
       "  <thead>\n",
       "    <tr style=\"text-align: right;\">\n",
       "      <th></th>\n",
       "      <th>0</th>\n",
       "      <th>1</th>\n",
       "      <th>2</th>\n",
       "      <th>3</th>\n",
       "      <th>4</th>\n",
       "      <th>5</th>\n",
       "      <th>6</th>\n",
       "      <th>7</th>\n",
       "      <th>8</th>\n",
       "      <th>9</th>\n",
       "      <th>...</th>\n",
       "      <th>140</th>\n",
       "      <th>141</th>\n",
       "      <th>142</th>\n",
       "      <th>143</th>\n",
       "      <th>144</th>\n",
       "      <th>145</th>\n",
       "      <th>146</th>\n",
       "      <th>147</th>\n",
       "      <th>148</th>\n",
       "      <th>149</th>\n",
       "    </tr>\n",
       "  </thead>\n",
       "  <tbody>\n",
       "    <tr>\n",
       "      <th>0</th>\n",
       "      <td>4.750000</td>\n",
       "      <td>4.421667</td>\n",
       "      <td>4.353333</td>\n",
       "      <td>4.160000</td>\n",
       "      <td>4.696667</td>\n",
       "      <td>4.860000</td>\n",
       "      <td>4.215000</td>\n",
       "      <td>4.595000</td>\n",
       "      <td>3.9650</td>\n",
       "      <td>4.493333</td>\n",
       "      <td>...</td>\n",
       "      <td>2.650000</td>\n",
       "      <td>3.090000</td>\n",
       "      <td>2.341667</td>\n",
       "      <td>2.730</td>\n",
       "      <td>2.596667</td>\n",
       "      <td>2.850000</td>\n",
       "      <td>2.741667</td>\n",
       "      <td>2.915000</td>\n",
       "      <td>2.475000</td>\n",
       "      <td>2.600000</td>\n",
       "    </tr>\n",
       "    <tr>\n",
       "      <th>1</th>\n",
       "      <td>4.421667</td>\n",
       "      <td>4.149167</td>\n",
       "      <td>4.055000</td>\n",
       "      <td>3.885000</td>\n",
       "      <td>4.358333</td>\n",
       "      <td>4.515000</td>\n",
       "      <td>3.907500</td>\n",
       "      <td>4.284167</td>\n",
       "      <td>3.7075</td>\n",
       "      <td>4.210000</td>\n",
       "      <td>...</td>\n",
       "      <td>2.725000</td>\n",
       "      <td>3.128333</td>\n",
       "      <td>2.409167</td>\n",
       "      <td>2.805</td>\n",
       "      <td>2.661667</td>\n",
       "      <td>2.906667</td>\n",
       "      <td>2.820833</td>\n",
       "      <td>2.955833</td>\n",
       "      <td>2.504167</td>\n",
       "      <td>2.628333</td>\n",
       "    </tr>\n",
       "    <tr>\n",
       "      <th>2</th>\n",
       "      <td>4.353333</td>\n",
       "      <td>4.055000</td>\n",
       "      <td>3.990000</td>\n",
       "      <td>3.813333</td>\n",
       "      <td>4.303333</td>\n",
       "      <td>4.453333</td>\n",
       "      <td>3.861667</td>\n",
       "      <td>4.211667</td>\n",
       "      <td>3.6350</td>\n",
       "      <td>4.120000</td>\n",
       "      <td>...</td>\n",
       "      <td>2.446667</td>\n",
       "      <td>2.850000</td>\n",
       "      <td>2.161667</td>\n",
       "      <td>2.520</td>\n",
       "      <td>2.396667</td>\n",
       "      <td>2.630000</td>\n",
       "      <td>2.531667</td>\n",
       "      <td>2.688333</td>\n",
       "      <td>2.281667</td>\n",
       "      <td>2.396667</td>\n",
       "    </tr>\n",
       "    <tr>\n",
       "      <th>3</th>\n",
       "      <td>4.160000</td>\n",
       "      <td>3.885000</td>\n",
       "      <td>3.813333</td>\n",
       "      <td>3.656667</td>\n",
       "      <td>4.110000</td>\n",
       "      <td>4.256667</td>\n",
       "      <td>3.688333</td>\n",
       "      <td>4.031667</td>\n",
       "      <td>3.4850</td>\n",
       "      <td>3.953333</td>\n",
       "      <td>...</td>\n",
       "      <td>2.493333</td>\n",
       "      <td>2.856667</td>\n",
       "      <td>2.218333</td>\n",
       "      <td>2.580</td>\n",
       "      <td>2.443333</td>\n",
       "      <td>2.653333</td>\n",
       "      <td>2.571667</td>\n",
       "      <td>2.718333</td>\n",
       "      <td>2.321667</td>\n",
       "      <td>2.440000</td>\n",
       "    </tr>\n",
       "    <tr>\n",
       "      <th>4</th>\n",
       "      <td>4.696667</td>\n",
       "      <td>4.358333</td>\n",
       "      <td>4.303333</td>\n",
       "      <td>4.110000</td>\n",
       "      <td>4.650000</td>\n",
       "      <td>4.810000</td>\n",
       "      <td>4.175000</td>\n",
       "      <td>4.541667</td>\n",
       "      <td>3.9150</td>\n",
       "      <td>4.433333</td>\n",
       "      <td>...</td>\n",
       "      <td>2.530000</td>\n",
       "      <td>2.963333</td>\n",
       "      <td>2.238333</td>\n",
       "      <td>2.610</td>\n",
       "      <td>2.483333</td>\n",
       "      <td>2.726667</td>\n",
       "      <td>2.615000</td>\n",
       "      <td>2.798333</td>\n",
       "      <td>2.381667</td>\n",
       "      <td>2.503333</td>\n",
       "    </tr>\n",
       "  </tbody>\n",
       "</table>\n",
       "<p>5 rows × 150 columns</p>\n",
       "</div>"
      ],
      "text/plain": [
       "        0         1         2         3         4         5         6    \\\n",
       "0  4.750000  4.421667  4.353333  4.160000  4.696667  4.860000  4.215000   \n",
       "1  4.421667  4.149167  4.055000  3.885000  4.358333  4.515000  3.907500   \n",
       "2  4.353333  4.055000  3.990000  3.813333  4.303333  4.453333  3.861667   \n",
       "3  4.160000  3.885000  3.813333  3.656667  4.110000  4.256667  3.688333   \n",
       "4  4.696667  4.358333  4.303333  4.110000  4.650000  4.810000  4.175000   \n",
       "\n",
       "        7       8         9      ...          140       141       142    143  \\\n",
       "0  4.595000  3.9650  4.493333    ...     2.650000  3.090000  2.341667  2.730   \n",
       "1  4.284167  3.7075  4.210000    ...     2.725000  3.128333  2.409167  2.805   \n",
       "2  4.211667  3.6350  4.120000    ...     2.446667  2.850000  2.161667  2.520   \n",
       "3  4.031667  3.4850  3.953333    ...     2.493333  2.856667  2.218333  2.580   \n",
       "4  4.541667  3.9150  4.433333    ...     2.530000  2.963333  2.238333  2.610   \n",
       "\n",
       "        144       145       146       147       148       149  \n",
       "0  2.596667  2.850000  2.741667  2.915000  2.475000  2.600000  \n",
       "1  2.661667  2.906667  2.820833  2.955833  2.504167  2.628333  \n",
       "2  2.396667  2.630000  2.531667  2.688333  2.281667  2.396667  \n",
       "3  2.443333  2.653333  2.571667  2.718333  2.321667  2.440000  \n",
       "4  2.483333  2.726667  2.615000  2.798333  2.381667  2.503333  \n",
       "\n",
       "[5 rows x 150 columns]"
      ]
     },
     "execution_count": 7,
     "metadata": {},
     "output_type": "execute_result"
    }
   ],
   "source": [
    "iris_cov[:5]"
   ]
  },
  {
   "cell_type": "markdown",
   "metadata": {},
   "source": [
    "+ 皮尔逊相关度\n",
    "\n",
    "    这个可以使用numpy来求了"
   ]
  },
  {
   "cell_type": "code",
   "execution_count": 8,
   "metadata": {
    "collapsed": true
   },
   "outputs": [],
   "source": [
    "import numpy as np"
   ]
  },
  {
   "cell_type": "code",
   "execution_count": 9,
   "metadata": {
    "collapsed": false
   },
   "outputs": [],
   "source": [
    "iris_copy = iris_data.copy()\n",
    "iris_ = iris_copy[iris_copy.columns[:-1]]"
   ]
  },
  {
   "cell_type": "code",
   "execution_count": 10,
   "metadata": {
    "collapsed": false
   },
   "outputs": [
    {
     "data": {
      "text/html": [
       "<div>\n",
       "<table border=\"1\" class=\"dataframe\">\n",
       "  <thead>\n",
       "    <tr style=\"text-align: right;\">\n",
       "      <th></th>\n",
       "      <th>0</th>\n",
       "      <th>1</th>\n",
       "      <th>2</th>\n",
       "      <th>3</th>\n",
       "      <th>4</th>\n",
       "      <th>5</th>\n",
       "      <th>6</th>\n",
       "      <th>7</th>\n",
       "      <th>8</th>\n",
       "      <th>9</th>\n",
       "      <th>...</th>\n",
       "      <th>140</th>\n",
       "      <th>141</th>\n",
       "      <th>142</th>\n",
       "      <th>143</th>\n",
       "      <th>144</th>\n",
       "      <th>145</th>\n",
       "      <th>146</th>\n",
       "      <th>147</th>\n",
       "      <th>148</th>\n",
       "      <th>149</th>\n",
       "    </tr>\n",
       "  </thead>\n",
       "  <tbody>\n",
       "    <tr>\n",
       "      <th>0</th>\n",
       "      <td>1.000000</td>\n",
       "      <td>0.995999</td>\n",
       "      <td>0.999974</td>\n",
       "      <td>0.998168</td>\n",
       "      <td>0.999347</td>\n",
       "      <td>0.999586</td>\n",
       "      <td>0.998811</td>\n",
       "      <td>0.999538</td>\n",
       "      <td>0.998077</td>\n",
       "      <td>0.996552</td>\n",
       "      <td>...</td>\n",
       "      <td>0.597825</td>\n",
       "      <td>0.685581</td>\n",
       "      <td>0.574649</td>\n",
       "      <td>0.584668</td>\n",
       "      <td>0.603048</td>\n",
       "      <td>0.646865</td>\n",
       "      <td>0.605998</td>\n",
       "      <td>0.653473</td>\n",
       "      <td>0.633917</td>\n",
       "      <td>0.633158</td>\n",
       "    </tr>\n",
       "    <tr>\n",
       "      <th>1</th>\n",
       "      <td>0.995999</td>\n",
       "      <td>1.000000</td>\n",
       "      <td>0.996607</td>\n",
       "      <td>0.997397</td>\n",
       "      <td>0.992233</td>\n",
       "      <td>0.993592</td>\n",
       "      <td>0.990721</td>\n",
       "      <td>0.997118</td>\n",
       "      <td>0.998546</td>\n",
       "      <td>0.999033</td>\n",
       "      <td>...</td>\n",
       "      <td>0.657750</td>\n",
       "      <td>0.742643</td>\n",
       "      <td>0.632574</td>\n",
       "      <td>0.642756</td>\n",
       "      <td>0.661387</td>\n",
       "      <td>0.705879</td>\n",
       "      <td>0.667114</td>\n",
       "      <td>0.708983</td>\n",
       "      <td>0.686257</td>\n",
       "      <td>0.684835</td>\n",
       "    </tr>\n",
       "    <tr>\n",
       "      <th>2</th>\n",
       "      <td>0.999974</td>\n",
       "      <td>0.996607</td>\n",
       "      <td>1.000000</td>\n",
       "      <td>0.998333</td>\n",
       "      <td>0.999061</td>\n",
       "      <td>0.999377</td>\n",
       "      <td>0.998438</td>\n",
       "      <td>0.999605</td>\n",
       "      <td>0.998356</td>\n",
       "      <td>0.996986</td>\n",
       "      <td>...</td>\n",
       "      <td>0.602231</td>\n",
       "      <td>0.689931</td>\n",
       "      <td>0.578798</td>\n",
       "      <td>0.588854</td>\n",
       "      <td>0.607300</td>\n",
       "      <td>0.651305</td>\n",
       "      <td>0.610553</td>\n",
       "      <td>0.657556</td>\n",
       "      <td>0.637631</td>\n",
       "      <td>0.636806</td>\n",
       "    </tr>\n",
       "    <tr>\n",
       "      <th>3</th>\n",
       "      <td>0.998168</td>\n",
       "      <td>0.997397</td>\n",
       "      <td>0.998333</td>\n",
       "      <td>1.000000</td>\n",
       "      <td>0.996719</td>\n",
       "      <td>0.997833</td>\n",
       "      <td>0.996139</td>\n",
       "      <td>0.999546</td>\n",
       "      <td>0.999833</td>\n",
       "      <td>0.999307</td>\n",
       "      <td>...</td>\n",
       "      <td>0.641080</td>\n",
       "      <td>0.722377</td>\n",
       "      <td>0.620453</td>\n",
       "      <td>0.629754</td>\n",
       "      <td>0.646729</td>\n",
       "      <td>0.686380</td>\n",
       "      <td>0.647851</td>\n",
       "      <td>0.694538</td>\n",
       "      <td>0.677737</td>\n",
       "      <td>0.677225</td>\n",
       "    </tr>\n",
       "    <tr>\n",
       "      <th>4</th>\n",
       "      <td>0.999347</td>\n",
       "      <td>0.992233</td>\n",
       "      <td>0.999061</td>\n",
       "      <td>0.996719</td>\n",
       "      <td>1.000000</td>\n",
       "      <td>0.999883</td>\n",
       "      <td>0.999914</td>\n",
       "      <td>0.998503</td>\n",
       "      <td>0.996031</td>\n",
       "      <td>0.993761</td>\n",
       "      <td>...</td>\n",
       "      <td>0.576858</td>\n",
       "      <td>0.664510</td>\n",
       "      <td>0.555166</td>\n",
       "      <td>0.564947</td>\n",
       "      <td>0.582896</td>\n",
       "      <td>0.625491</td>\n",
       "      <td>0.584183</td>\n",
       "      <td>0.634029</td>\n",
       "      <td>0.616536</td>\n",
       "      <td>0.616138</td>\n",
       "    </tr>\n",
       "  </tbody>\n",
       "</table>\n",
       "<p>5 rows × 150 columns</p>\n",
       "</div>"
      ],
      "text/plain": [
       "        0         1         2         3         4         5         6    \\\n",
       "0  1.000000  0.995999  0.999974  0.998168  0.999347  0.999586  0.998811   \n",
       "1  0.995999  1.000000  0.996607  0.997397  0.992233  0.993592  0.990721   \n",
       "2  0.999974  0.996607  1.000000  0.998333  0.999061  0.999377  0.998438   \n",
       "3  0.998168  0.997397  0.998333  1.000000  0.996719  0.997833  0.996139   \n",
       "4  0.999347  0.992233  0.999061  0.996719  1.000000  0.999883  0.999914   \n",
       "\n",
       "        7         8         9      ...          140       141       142  \\\n",
       "0  0.999538  0.998077  0.996552    ...     0.597825  0.685581  0.574649   \n",
       "1  0.997118  0.998546  0.999033    ...     0.657750  0.742643  0.632574   \n",
       "2  0.999605  0.998356  0.996986    ...     0.602231  0.689931  0.578798   \n",
       "3  0.999546  0.999833  0.999307    ...     0.641080  0.722377  0.620453   \n",
       "4  0.998503  0.996031  0.993761    ...     0.576858  0.664510  0.555166   \n",
       "\n",
       "        143       144       145       146       147       148       149  \n",
       "0  0.584668  0.603048  0.646865  0.605998  0.653473  0.633917  0.633158  \n",
       "1  0.642756  0.661387  0.705879  0.667114  0.708983  0.686257  0.684835  \n",
       "2  0.588854  0.607300  0.651305  0.610553  0.657556  0.637631  0.636806  \n",
       "3  0.629754  0.646729  0.686380  0.647851  0.694538  0.677737  0.677225  \n",
       "4  0.564947  0.582896  0.625491  0.584183  0.634029  0.616536  0.616138  \n",
       "\n",
       "[5 rows x 150 columns]"
      ]
     },
     "execution_count": 10,
     "metadata": {},
     "output_type": "execute_result"
    }
   ],
   "source": [
    "pd.DataFrame(np.corrcoef(iris_.as_matrix()))[:5]"
   ]
  },
  {
   "cell_type": "markdown",
   "metadata": {},
   "source": [
    "也可以使用pandas中的corr方法\n",
    "\n",
    "corr可以使用的算法有:\n",
    "\n",
    "+ pearson\n",
    "\n",
    "    (default)皮尔逊相关系数\n",
    "    \n",
    "+ kendall\n",
    "\n",
    "    Kendall Tau相关系数\n",
    "    \n",
    "+ spearman\n",
    "\n",
    "    斯皮尔曼等级相关系数\n",
    "\n",
    "可以使用'method'关键字指定.请注意，非数字列将从相关性计算中自动排除。为了自己看起来明确,要么写好注释,要么就自己手动排除或者处理"
   ]
  },
  {
   "cell_type": "code",
   "execution_count": 11,
   "metadata": {
    "collapsed": false
   },
   "outputs": [
    {
     "ename": "NameError",
     "evalue": "name 'iris_T' is not defined",
     "output_type": "error",
     "traceback": [
      "\u001b[0;31m---------------------------------------------------------------------------\u001b[0m",
      "\u001b[0;31mNameError\u001b[0m                                 Traceback (most recent call last)",
      "\u001b[0;32m<ipython-input-11-80af32bdcf9b>\u001b[0m in \u001b[0;36m<module>\u001b[0;34m()\u001b[0m\n\u001b[0;32m----> 1\u001b[0;31m \u001b[0miris_T\u001b[0m\u001b[1;33m.\u001b[0m\u001b[0mcorr\u001b[0m\u001b[1;33m(\u001b[0m\u001b[0mmethod\u001b[0m\u001b[1;33m=\u001b[0m\u001b[1;34m'spearman'\u001b[0m\u001b[1;33m)\u001b[0m\u001b[1;33m[\u001b[0m\u001b[1;33m:\u001b[0m\u001b[1;36m5\u001b[0m\u001b[1;33m]\u001b[0m\u001b[1;33m\u001b[0m\u001b[0m\n\u001b[0m",
      "\u001b[0;31mNameError\u001b[0m: name 'iris_T' is not defined"
     ]
    }
   ],
   "source": [
    "iris_T.corr(method='spearman')[:5]"
   ]
  },
  {
   "cell_type": "markdown",
   "metadata": {},
   "source": [
    "## 其他统计方法\n",
    "\n",
    "\n",
    "Method|Description\n",
    "---|---\n",
    "count()|Number of non-null observations\n",
    "sum()|Sum of values\n",
    "mean()|Mean of values\n",
    "median()|Arithmetic median of values\n",
    "min()|Minimum\n",
    "max()|Maximum\n",
    "std()|Bessel-corrected sample standard deviation\n",
    "var()|Unbiased variance\n",
    "skew()|偏度\n",
    "kurt()|峰度\n",
    "quantile()|分位数(百分比作为值参数)\n",
    "apply()|Generic apply"
   ]
  },
  {
   "cell_type": "markdown",
   "metadata": {},
   "source": [
    "## 窗口函数\n",
    "\n",
    "对于处理数据，pandas提供了许多窗口函数用于计算公共窗口或滚动统计。\n",
    "其中包括计数，总和，平均值，中值，相关性，方差，协方差，标准偏差，偏度和峰度。\n",
    "\n",
    "我们使用`rolling`,`.expanding `,`ewm` 对数据进行相应的处理\n",
    "\n",
    "这三个函数的用法和groupby很像,\n",
    "他们的构造函数通常这些方法都有相同的接口。\n",
    "他们都接受以下参数：\n",
    "\n",
    "+ window：移动窗口的大小\n",
    "+ min_periods：要求非空数据点的阈值（否则结果为NA）\n",
    "+ center：boolean，是否在中间设置标签（默认为False）\n",
    "+ axis"
   ]
  },
  {
   "cell_type": "markdown",
   "metadata": {},
   "source": [
    "+ ### rolling函数\n",
    "\n",
    "`rolling(window,min_periods,center,axis)`"
   ]
  },
  {
   "cell_type": "code",
   "execution_count": 12,
   "metadata": {
    "collapsed": false
   },
   "outputs": [
    {
     "data": {
      "text/plain": [
       "2000-01-01   -1.469066\n",
       "2000-01-02   -1.493505\n",
       "2000-01-03   -3.071202\n",
       "2000-01-04   -2.740711\n",
       "2000-01-05   -3.336262\n",
       "Freq: D, dtype: float64"
      ]
     },
     "execution_count": 12,
     "metadata": {},
     "output_type": "execute_result"
    }
   ],
   "source": [
    "s = pd.Series(np.random.randn(1000), index=pd.date_range('1/1/2000', periods=1000))\n",
    "s = s.cumsum()\n",
    "s[:5]"
   ]
  },
  {
   "cell_type": "code",
   "execution_count": 13,
   "metadata": {
    "collapsed": true
   },
   "outputs": [],
   "source": [
    "r = s.rolling(window=60)"
   ]
  },
  {
   "cell_type": "code",
   "execution_count": 14,
   "metadata": {
    "collapsed": false
   },
   "outputs": [
    {
     "data": {
      "text/plain": [
       "Rolling [window=60,center=False,axis=0]"
      ]
     },
     "execution_count": 14,
     "metadata": {},
     "output_type": "execute_result"
    }
   ],
   "source": [
    "r"
   ]
  },
  {
   "cell_type": "code",
   "execution_count": 15,
   "metadata": {
    "collapsed": false
   },
   "outputs": [
    {
     "data": {
      "text/plain": [
       "2000-01-01          NaN\n",
       "2000-01-02          NaN\n",
       "2000-01-03          NaN\n",
       "2000-01-04          NaN\n",
       "2000-01-05          NaN\n",
       "2000-01-06          NaN\n",
       "2000-01-07          NaN\n",
       "2000-01-08          NaN\n",
       "2000-01-09          NaN\n",
       "2000-01-10          NaN\n",
       "2000-01-11          NaN\n",
       "2000-01-12          NaN\n",
       "2000-01-13          NaN\n",
       "2000-01-14          NaN\n",
       "2000-01-15          NaN\n",
       "2000-01-16          NaN\n",
       "2000-01-17          NaN\n",
       "2000-01-18          NaN\n",
       "2000-01-19          NaN\n",
       "2000-01-20          NaN\n",
       "2000-01-21          NaN\n",
       "2000-01-22          NaN\n",
       "2000-01-23          NaN\n",
       "2000-01-24          NaN\n",
       "2000-01-25          NaN\n",
       "2000-01-26          NaN\n",
       "2000-01-27          NaN\n",
       "2000-01-28          NaN\n",
       "2000-01-29          NaN\n",
       "2000-01-30          NaN\n",
       "                ...    \n",
       "2002-08-28    46.641130\n",
       "2002-08-29    46.733553\n",
       "2002-08-30    46.801611\n",
       "2002-08-31    46.899215\n",
       "2002-09-01    47.016365\n",
       "2002-09-02    47.088110\n",
       "2002-09-03    47.147598\n",
       "2002-09-04    47.200116\n",
       "2002-09-05    47.257776\n",
       "2002-09-06    47.335399\n",
       "2002-09-07    47.402138\n",
       "2002-09-08    47.416653\n",
       "2002-09-09    47.402354\n",
       "2002-09-10    47.377841\n",
       "2002-09-11    47.358784\n",
       "2002-09-12    47.339613\n",
       "2002-09-13    47.287782\n",
       "2002-09-14    47.239256\n",
       "2002-09-15    47.219807\n",
       "2002-09-16    47.201183\n",
       "2002-09-17    47.142999\n",
       "2002-09-18    47.060706\n",
       "2002-09-19    47.029424\n",
       "2002-09-20    46.995019\n",
       "2002-09-21    46.961195\n",
       "2002-09-22    46.952758\n",
       "2002-09-23    46.961190\n",
       "2002-09-24    46.940297\n",
       "2002-09-25    46.935238\n",
       "2002-09-26    46.923563\n",
       "Freq: D, dtype: float64"
      ]
     },
     "execution_count": 15,
     "metadata": {},
     "output_type": "execute_result"
    }
   ],
   "source": [
    "r.mean()"
   ]
  },
  {
   "cell_type": "code",
   "execution_count": 16,
   "metadata": {
    "collapsed": false
   },
   "outputs": [
    {
     "data": {
      "text/plain": [
       "<matplotlib.axes._subplots.AxesSubplot at 0x14687701898>"
      ]
     },
     "execution_count": 16,
     "metadata": {},
     "output_type": "execute_result"
    },
    {
     "data": {
      "image/png": "[encoded data removed]",
      "text/plain": [
       "<matplotlib.figure.Figure at 0x146876d51d0>"
      ]
     },
     "metadata": {},
     "output_type": "display_data"
    }
   ],
   "source": [
    "s.plot()\n",
    "r.mean().plot(style='k')"
   ]
  },
  {
   "cell_type": "code",
   "execution_count": 17,
   "metadata": {
    "collapsed": false
   },
   "outputs": [
    {
     "data": {
      "text/plain": [
       "array([<matplotlib.axes._subplots.AxesSubplot object at 0x0000014687BE3860>,\n",
       "       <matplotlib.axes._subplots.AxesSubplot object at 0x0000014687B19780>,\n",
       "       <matplotlib.axes._subplots.AxesSubplot object at 0x0000014687C86208>,\n",
       "       <matplotlib.axes._subplots.AxesSubplot object at 0x0000014687CEC518>], dtype=object)"
      ]
     },
     "execution_count": 17,
     "metadata": {},
     "output_type": "execute_result"
    },
    {
     "data": {
      "image/png": "[encoded data removed]",
      "text/plain": [
       "<matplotlib.figure.Figure at 0x1468607ea58>"
      ]
     },
     "metadata": {},
     "output_type": "display_data"
    },
    {
     "data": {
      "image/png": "[encoded data removed]",
      "text/plain": [
       "<matplotlib.figure.Figure at 0x146877e16a0>"
      ]
     },
     "metadata": {},
     "output_type": "display_data"
    }
   ],
   "source": [
    "df = pd.DataFrame(np.random.randn(1000, 4),\n",
    "                  index=pd.date_range('1/1/2000', periods=1000),\n",
    "                  columns=['A', 'B', 'C', 'D'])\n",
    "\n",
    "df = df.cumsum()\n",
    "df.rolling(window=60).sum().plot(subplots=True)\n",
    "df.plot(subplots=True)"
   ]
  },
  {
   "cell_type": "markdown",
   "metadata": {},
   "source": [
    "#### 使用自定义的方法 "
   ]
  },
  {
   "cell_type": "code",
   "execution_count": 18,
   "metadata": {
    "collapsed": false
   },
   "outputs": [
    {
     "data": {
      "text/plain": [
       "<matplotlib.axes._subplots.AxesSubplot at 0x14687fc5278>"
      ]
     },
     "execution_count": 18,
     "metadata": {},
     "output_type": "execute_result"
    },
    {
     "data": {
      "image/png": "[encoded data removed]",
      "text/plain": [
       "<matplotlib.figure.Figure at 0x146877523c8>"
      ]
     },
     "metadata": {},
     "output_type": "display_data"
    }
   ],
   "source": [
    "s.rolling(window=60)\\\n",
    ".apply(lambda x: np.fabs(x - x.mean()).mean())\\\n",
    ".plot(style='k')\n"
   ]
  },
  {
   "cell_type": "markdown",
   "metadata": {},
   "source": [
    "rolling有一个特有关键字win_type\n",
    "它表示窗口的类型,\n",
    "公认类型有:\n",
    "+ boxcar\n",
    "+ triang\n",
    "+ blackman\n",
    "+ hamming\n",
    "+ bartlett\n",
    "+ parzen\n",
    "+ bohman\n",
    "+ blackmanharris\n",
    "+ nuttall\n",
    "+ barthann\n",
    "+ kaiser (需要beta参数)\n",
    "+ gaussian (需要std参数)\n",
    "+ general_gaussian (需要 power, width参数)\n",
    "+ slepian (需要width参数)."
   ]
  },
  {
   "cell_type": "code",
   "execution_count": 19,
   "metadata": {
    "collapsed": false
   },
   "outputs": [
    {
     "data": {
      "text/plain": [
       "2000-01-01         NaN\n",
       "2000-01-02         NaN\n",
       "2000-01-03         NaN\n",
       "2000-01-04         NaN\n",
       "2000-01-05    0.241423\n",
       "2000-01-06    0.554305\n",
       "2000-01-07    0.879226\n",
       "2000-01-08    0.802116\n",
       "2000-01-09    0.600150\n",
       "2000-01-10    0.049508\n",
       "Freq: D, dtype: float64"
      ]
     },
     "execution_count": 19,
     "metadata": {},
     "output_type": "execute_result"
    }
   ],
   "source": [
    "ser = pd.Series(np.random.randn(10), index=pd.date_range('1/1/2000', periods=10))\n",
    "ser.rolling(window=5, win_type='triang').mean()"
   ]
  },
  {
   "cell_type": "code",
   "execution_count": 20,
   "metadata": {
    "collapsed": false
   },
   "outputs": [
    {
     "data": {
      "text/plain": [
       "2000-01-01         NaN\n",
       "2000-01-02         NaN\n",
       "2000-01-03         NaN\n",
       "2000-01-04         NaN\n",
       "2000-01-05    0.430083\n",
       "2000-01-06    0.543986\n",
       "2000-01-07    0.612879\n",
       "2000-01-08    0.790742\n",
       "2000-01-09    0.600822\n",
       "2000-01-10   -0.150064\n",
       "Freq: D, dtype: float64"
      ]
     },
     "execution_count": 20,
     "metadata": {},
     "output_type": "execute_result"
    }
   ],
   "source": [
    "ser.rolling(window=5, win_type='boxcar').mean()"
   ]
  },
  {
   "cell_type": "code",
   "execution_count": 21,
   "metadata": {
    "collapsed": false
   },
   "outputs": [
    {
     "data": {
      "text/plain": [
       "2000-01-01         NaN\n",
       "2000-01-02         NaN\n",
       "2000-01-03         NaN\n",
       "2000-01-04         NaN\n",
       "2000-01-05   -0.345494\n",
       "2000-01-06    0.117715\n",
       "2000-01-07    2.378884\n",
       "2000-01-08   -0.026842\n",
       "2000-01-09    0.940132\n",
       "2000-01-10    0.543824\n",
       "Freq: D, dtype: float64"
      ]
     },
     "execution_count": 21,
     "metadata": {},
     "output_type": "execute_result"
    }
   ],
   "source": [
    "ser.rolling(window=5, win_type='gaussian').mean(std=0.1)"
   ]
  },
  {
   "cell_type": "markdown",
   "metadata": {},
   "source": [
    "### 时间感知滚动\n",
    "\n",
    "这对于非规则的时间频率指数特别有用。第一个参数使用字符串表示时间间隔即可"
   ]
  },
  {
   "cell_type": "code",
   "execution_count": 22,
   "metadata": {
    "collapsed": false
   },
   "outputs": [
    {
     "data": {
      "text/html": [
       "<div>\n",
       "<table border=\"1\" class=\"dataframe\">\n",
       "  <thead>\n",
       "    <tr style=\"text-align: right;\">\n",
       "      <th></th>\n",
       "      <th>B</th>\n",
       "    </tr>\n",
       "  </thead>\n",
       "  <tbody>\n",
       "    <tr>\n",
       "      <th>2013-01-01 09:00:00</th>\n",
       "      <td>0.0</td>\n",
       "    </tr>\n",
       "    <tr>\n",
       "      <th>2013-01-01 09:00:01</th>\n",
       "      <td>1.0</td>\n",
       "    </tr>\n",
       "    <tr>\n",
       "      <th>2013-01-01 09:00:02</th>\n",
       "      <td>2.0</td>\n",
       "    </tr>\n",
       "    <tr>\n",
       "      <th>2013-01-01 09:00:03</th>\n",
       "      <td>NaN</td>\n",
       "    </tr>\n",
       "    <tr>\n",
       "      <th>2013-01-01 09:00:04</th>\n",
       "      <td>4.0</td>\n",
       "    </tr>\n",
       "  </tbody>\n",
       "</table>\n",
       "</div>"
      ],
      "text/plain": [
       "                       B\n",
       "2013-01-01 09:00:00  0.0\n",
       "2013-01-01 09:00:01  1.0\n",
       "2013-01-01 09:00:02  2.0\n",
       "2013-01-01 09:00:03  NaN\n",
       "2013-01-01 09:00:04  4.0"
      ]
     },
     "execution_count": 22,
     "metadata": {},
     "output_type": "execute_result"
    }
   ],
   "source": [
    "dft = pd.DataFrame({'B': [0, 1, 2, np.nan, 4]},\n",
    "                   index=pd.date_range('20130101 09:00:00', periods=5, freq='s'))\n",
    "dft"
   ]
  },
  {
   "cell_type": "code",
   "execution_count": 23,
   "metadata": {
    "collapsed": false
   },
   "outputs": [
    {
     "data": {
      "text/html": [
       "<div>\n",
       "<table border=\"1\" class=\"dataframe\">\n",
       "  <thead>\n",
       "    <tr style=\"text-align: right;\">\n",
       "      <th></th>\n",
       "      <th>B</th>\n",
       "    </tr>\n",
       "  </thead>\n",
       "  <tbody>\n",
       "    <tr>\n",
       "      <th>2013-01-01 09:00:00</th>\n",
       "      <td>0.0</td>\n",
       "    </tr>\n",
       "    <tr>\n",
       "      <th>2013-01-01 09:00:01</th>\n",
       "      <td>1.0</td>\n",
       "    </tr>\n",
       "    <tr>\n",
       "      <th>2013-01-01 09:00:02</th>\n",
       "      <td>3.0</td>\n",
       "    </tr>\n",
       "    <tr>\n",
       "      <th>2013-01-01 09:00:03</th>\n",
       "      <td>2.0</td>\n",
       "    </tr>\n",
       "    <tr>\n",
       "      <th>2013-01-01 09:00:04</th>\n",
       "      <td>4.0</td>\n",
       "    </tr>\n",
       "  </tbody>\n",
       "</table>\n",
       "</div>"
      ],
      "text/plain": [
       "                       B\n",
       "2013-01-01 09:00:00  0.0\n",
       "2013-01-01 09:00:01  1.0\n",
       "2013-01-01 09:00:02  3.0\n",
       "2013-01-01 09:00:03  2.0\n",
       "2013-01-01 09:00:04  4.0"
      ]
     },
     "execution_count": 23,
     "metadata": {},
     "output_type": "execute_result"
    }
   ],
   "source": [
    "dft.rolling('2s').sum()"
   ]
  },
  {
   "cell_type": "markdown",
   "metadata": {},
   "source": [
    "### 计算窗口的cov() 和 corr() \n",
    "\n",
    "在金融数据分析和其他领域中，通常对于时间序列的集合计算协方差和相关矩阵。通常，人们也对移动窗协方差和相关矩阵感兴趣。这可以通过传递 pairwise 关键字参数来实现，在DataFrame输入的情况下，将产生一个Panel，其中的 items 是有问题的日期。在单个DataFrame参数的情况下，成对参数甚至可以省略：\n"
   ]
  },
  {
   "cell_type": "code",
   "execution_count": 24,
   "metadata": {
    "collapsed": false
   },
   "outputs": [],
   "source": [
    "df2 = df[:20]"
   ]
  },
  {
   "cell_type": "code",
   "execution_count": 25,
   "metadata": {
    "collapsed": false
   },
   "outputs": [
    {
     "data": {
      "text/html": [
       "<div>\n",
       "<table border=\"1\" class=\"dataframe\">\n",
       "  <thead>\n",
       "    <tr style=\"text-align: right;\">\n",
       "      <th></th>\n",
       "      <th>A</th>\n",
       "      <th>B</th>\n",
       "      <th>C</th>\n",
       "      <th>D</th>\n",
       "    </tr>\n",
       "  </thead>\n",
       "  <tbody>\n",
       "    <tr>\n",
       "      <th>2000-01-01</th>\n",
       "      <td>NaN</td>\n",
       "      <td>NaN</td>\n",
       "      <td>NaN</td>\n",
       "      <td>NaN</td>\n",
       "    </tr>\n",
       "    <tr>\n",
       "      <th>2000-01-02</th>\n",
       "      <td>NaN</td>\n",
       "      <td>NaN</td>\n",
       "      <td>NaN</td>\n",
       "      <td>NaN</td>\n",
       "    </tr>\n",
       "    <tr>\n",
       "      <th>2000-01-03</th>\n",
       "      <td>NaN</td>\n",
       "      <td>NaN</td>\n",
       "      <td>NaN</td>\n",
       "      <td>NaN</td>\n",
       "    </tr>\n",
       "    <tr>\n",
       "      <th>2000-01-04</th>\n",
       "      <td>NaN</td>\n",
       "      <td>NaN</td>\n",
       "      <td>NaN</td>\n",
       "      <td>NaN</td>\n",
       "    </tr>\n",
       "    <tr>\n",
       "      <th>2000-01-05</th>\n",
       "      <td>-0.988134</td>\n",
       "      <td>1.0</td>\n",
       "      <td>-0.509080</td>\n",
       "      <td>-0.044348</td>\n",
       "    </tr>\n",
       "    <tr>\n",
       "      <th>2000-01-06</th>\n",
       "      <td>-0.971898</td>\n",
       "      <td>1.0</td>\n",
       "      <td>-0.267032</td>\n",
       "      <td>-0.140462</td>\n",
       "    </tr>\n",
       "    <tr>\n",
       "      <th>2000-01-07</th>\n",
       "      <td>-0.614334</td>\n",
       "      <td>1.0</td>\n",
       "      <td>-0.248780</td>\n",
       "      <td>-0.932933</td>\n",
       "    </tr>\n",
       "    <tr>\n",
       "      <th>2000-01-08</th>\n",
       "      <td>-0.164408</td>\n",
       "      <td>1.0</td>\n",
       "      <td>0.333629</td>\n",
       "      <td>-0.705022</td>\n",
       "    </tr>\n",
       "    <tr>\n",
       "      <th>2000-01-09</th>\n",
       "      <td>0.588439</td>\n",
       "      <td>1.0</td>\n",
       "      <td>0.461840</td>\n",
       "      <td>-0.424914</td>\n",
       "    </tr>\n",
       "    <tr>\n",
       "      <th>2000-01-10</th>\n",
       "      <td>-0.089130</td>\n",
       "      <td>1.0</td>\n",
       "      <td>0.613644</td>\n",
       "      <td>-0.502755</td>\n",
       "    </tr>\n",
       "    <tr>\n",
       "      <th>2000-01-11</th>\n",
       "      <td>-0.404701</td>\n",
       "      <td>1.0</td>\n",
       "      <td>0.817422</td>\n",
       "      <td>-0.617821</td>\n",
       "    </tr>\n",
       "    <tr>\n",
       "      <th>2000-01-12</th>\n",
       "      <td>-0.306358</td>\n",
       "      <td>1.0</td>\n",
       "      <td>0.947502</td>\n",
       "      <td>-0.482659</td>\n",
       "    </tr>\n",
       "    <tr>\n",
       "      <th>2000-01-13</th>\n",
       "      <td>0.162125</td>\n",
       "      <td>1.0</td>\n",
       "      <td>0.722880</td>\n",
       "      <td>0.765848</td>\n",
       "    </tr>\n",
       "    <tr>\n",
       "      <th>2000-01-14</th>\n",
       "      <td>0.921286</td>\n",
       "      <td>1.0</td>\n",
       "      <td>-0.163586</td>\n",
       "      <td>0.728886</td>\n",
       "    </tr>\n",
       "    <tr>\n",
       "      <th>2000-01-15</th>\n",
       "      <td>0.936731</td>\n",
       "      <td>1.0</td>\n",
       "      <td>-0.898769</td>\n",
       "      <td>0.799872</td>\n",
       "    </tr>\n",
       "    <tr>\n",
       "      <th>2000-01-16</th>\n",
       "      <td>0.921981</td>\n",
       "      <td>1.0</td>\n",
       "      <td>-0.622629</td>\n",
       "      <td>0.715288</td>\n",
       "    </tr>\n",
       "    <tr>\n",
       "      <th>2000-01-17</th>\n",
       "      <td>0.852761</td>\n",
       "      <td>1.0</td>\n",
       "      <td>-0.510544</td>\n",
       "      <td>0.748616</td>\n",
       "    </tr>\n",
       "    <tr>\n",
       "      <th>2000-01-18</th>\n",
       "      <td>0.706772</td>\n",
       "      <td>1.0</td>\n",
       "      <td>-0.125578</td>\n",
       "      <td>0.506575</td>\n",
       "    </tr>\n",
       "    <tr>\n",
       "      <th>2000-01-19</th>\n",
       "      <td>-0.383707</td>\n",
       "      <td>1.0</td>\n",
       "      <td>-0.041564</td>\n",
       "      <td>0.370664</td>\n",
       "    </tr>\n",
       "    <tr>\n",
       "      <th>2000-01-20</th>\n",
       "      <td>-0.740382</td>\n",
       "      <td>1.0</td>\n",
       "      <td>0.229220</td>\n",
       "      <td>0.140201</td>\n",
       "    </tr>\n",
       "  </tbody>\n",
       "</table>\n",
       "</div>"
      ],
      "text/plain": [
       "                   A    B         C         D\n",
       "2000-01-01       NaN  NaN       NaN       NaN\n",
       "2000-01-02       NaN  NaN       NaN       NaN\n",
       "2000-01-03       NaN  NaN       NaN       NaN\n",
       "2000-01-04       NaN  NaN       NaN       NaN\n",
       "2000-01-05 -0.988134  1.0 -0.509080 -0.044348\n",
       "2000-01-06 -0.971898  1.0 -0.267032 -0.140462\n",
       "2000-01-07 -0.614334  1.0 -0.248780 -0.932933\n",
       "2000-01-08 -0.164408  1.0  0.333629 -0.705022\n",
       "2000-01-09  0.588439  1.0  0.461840 -0.424914\n",
       "2000-01-10 -0.089130  1.0  0.613644 -0.502755\n",
       "2000-01-11 -0.404701  1.0  0.817422 -0.617821\n",
       "2000-01-12 -0.306358  1.0  0.947502 -0.482659\n",
       "2000-01-13  0.162125  1.0  0.722880  0.765848\n",
       "2000-01-14  0.921286  1.0 -0.163586  0.728886\n",
       "2000-01-15  0.936731  1.0 -0.898769  0.799872\n",
       "2000-01-16  0.921981  1.0 -0.622629  0.715288\n",
       "2000-01-17  0.852761  1.0 -0.510544  0.748616\n",
       "2000-01-18  0.706772  1.0 -0.125578  0.506575\n",
       "2000-01-19 -0.383707  1.0 -0.041564  0.370664\n",
       "2000-01-20 -0.740382  1.0  0.229220  0.140201"
      ]
     },
     "execution_count": 25,
     "metadata": {},
     "output_type": "execute_result"
    }
   ],
   "source": [
    "df2.rolling(window=5).corr(df2['B'])"
   ]
  },
  {
   "cell_type": "code",
   "execution_count": 26,
   "metadata": {
    "collapsed": true
   },
   "outputs": [],
   "source": [
    "covs = df[['B','C','D']].rolling(window=50).cov(df[['A','B','C']], pairwise=True)"
   ]
  },
  {
   "cell_type": "code",
   "execution_count": 27,
   "metadata": {
    "collapsed": false
   },
   "outputs": [
    {
     "data": {
      "text/html": [
       "<div>\n",
       "<table border=\"1\" class=\"dataframe\">\n",
       "  <thead>\n",
       "    <tr style=\"text-align: right;\">\n",
       "      <th></th>\n",
       "      <th>A</th>\n",
       "      <th>B</th>\n",
       "      <th>C</th>\n",
       "    </tr>\n",
       "  </thead>\n",
       "  <tbody>\n",
       "    <tr>\n",
       "      <th>B</th>\n",
       "      <td>-5.131780</td>\n",
       "      <td>5.522610</td>\n",
       "      <td>-0.344374</td>\n",
       "    </tr>\n",
       "    <tr>\n",
       "      <th>C</th>\n",
       "      <td>1.051719</td>\n",
       "      <td>-0.344374</td>\n",
       "      <td>2.804096</td>\n",
       "    </tr>\n",
       "    <tr>\n",
       "      <th>D</th>\n",
       "      <td>1.841796</td>\n",
       "      <td>0.252558</td>\n",
       "      <td>1.139038</td>\n",
       "    </tr>\n",
       "  </tbody>\n",
       "</table>\n",
       "</div>"
      ],
      "text/plain": [
       "          A         B         C\n",
       "B -5.131780  5.522610 -0.344374\n",
       "C  1.051719 -0.344374  2.804096\n",
       "D  1.841796  0.252558  1.139038"
      ]
     },
     "execution_count": 27,
     "metadata": {},
     "output_type": "execute_result"
    }
   ],
   "source": [
    "covs[df.index[-50]]"
   ]
  },
  {
   "cell_type": "code",
   "execution_count": 28,
   "metadata": {
    "collapsed": false
   },
   "outputs": [
    {
     "data": {
      "text/html": [
       "<div>\n",
       "<table border=\"1\" class=\"dataframe\">\n",
       "  <thead>\n",
       "    <tr style=\"text-align: right;\">\n",
       "      <th></th>\n",
       "      <th>A</th>\n",
       "      <th>B</th>\n",
       "      <th>C</th>\n",
       "      <th>D</th>\n",
       "    </tr>\n",
       "  </thead>\n",
       "  <tbody>\n",
       "    <tr>\n",
       "      <th>A</th>\n",
       "      <td>1.000000</td>\n",
       "      <td>-0.617498</td>\n",
       "      <td>0.177600</td>\n",
       "      <td>0.330833</td>\n",
       "    </tr>\n",
       "    <tr>\n",
       "      <th>B</th>\n",
       "      <td>-0.617498</td>\n",
       "      <td>1.000000</td>\n",
       "      <td>-0.087511</td>\n",
       "      <td>0.068268</td>\n",
       "    </tr>\n",
       "    <tr>\n",
       "      <th>C</th>\n",
       "      <td>0.177600</td>\n",
       "      <td>-0.087511</td>\n",
       "      <td>1.000000</td>\n",
       "      <td>0.432085</td>\n",
       "    </tr>\n",
       "    <tr>\n",
       "      <th>D</th>\n",
       "      <td>0.330833</td>\n",
       "      <td>0.068268</td>\n",
       "      <td>0.432085</td>\n",
       "      <td>1.000000</td>\n",
       "    </tr>\n",
       "  </tbody>\n",
       "</table>\n",
       "</div>"
      ],
      "text/plain": [
       "          A         B         C         D\n",
       "A  1.000000 -0.617498  0.177600  0.330833\n",
       "B -0.617498  1.000000 -0.087511  0.068268\n",
       "C  0.177600 -0.087511  1.000000  0.432085\n",
       "D  0.330833  0.068268  0.432085  1.000000"
      ]
     },
     "execution_count": 28,
     "metadata": {},
     "output_type": "execute_result"
    }
   ],
   "source": [
    "correls = df.rolling(window=50).corr()\n",
    "correls[df.index[-50]]"
   ]
  },
  {
   "cell_type": "code",
   "execution_count": 29,
   "metadata": {
    "collapsed": false
   },
   "outputs": [
    {
     "data": {
      "text/plain": [
       "<matplotlib.axes._subplots.AxesSubplot at 0x14689767940>"
      ]
     },
     "execution_count": 29,
     "metadata": {},
     "output_type": "execute_result"
    },
    {
     "data": {
      "image/png": "[encoded data removed]",
      "text/plain": [
       "<matplotlib.figure.Figure at 0x1468975e550>"
      ]
     },
     "metadata": {},
     "output_type": "display_data"
    }
   ],
   "source": [
    "correls.loc[:, 'A', 'C'].plot()"
   ]
  },
  {
   "cell_type": "markdown",
   "metadata": {},
   "source": [
    "### 使用`aggregate`聚合\n",
    "\n",
    "这个操作和groupby那个聚合非常类似,构建窗口后通过一系列算法获得了各窗口的值,我们可以通过传递一个函数到整个DataFrame\n",
    "\n",
    "也可以用`agg()`一次应用多个function"
   ]
  },
  {
   "cell_type": "code",
   "execution_count": 30,
   "metadata": {
    "collapsed": true
   },
   "outputs": [],
   "source": [
    "dfa = pd.DataFrame(np.random.randn(1000, 3),\n",
    "                    index=pd.date_range('1/1/2000', periods=1000),\n",
    "                    columns=['A', 'B', 'C'])"
   ]
  },
  {
   "cell_type": "code",
   "execution_count": 31,
   "metadata": {
    "collapsed": false
   },
   "outputs": [
    {
     "data": {
      "text/html": [
       "<div>\n",
       "<table border=\"1\" class=\"dataframe\">\n",
       "  <thead>\n",
       "    <tr style=\"text-align: right;\">\n",
       "      <th></th>\n",
       "      <th>A</th>\n",
       "      <th>B</th>\n",
       "      <th>C</th>\n",
       "    </tr>\n",
       "  </thead>\n",
       "  <tbody>\n",
       "    <tr>\n",
       "      <th>2000-01-01</th>\n",
       "      <td>-0.381921</td>\n",
       "      <td>0.197892</td>\n",
       "      <td>-0.387883</td>\n",
       "    </tr>\n",
       "    <tr>\n",
       "      <th>2000-01-02</th>\n",
       "      <td>-1.283849</td>\n",
       "      <td>0.631795</td>\n",
       "      <td>-0.984351</td>\n",
       "    </tr>\n",
       "    <tr>\n",
       "      <th>2000-01-03</th>\n",
       "      <td>-0.561875</td>\n",
       "      <td>0.727460</td>\n",
       "      <td>-0.631296</td>\n",
       "    </tr>\n",
       "    <tr>\n",
       "      <th>2000-01-04</th>\n",
       "      <td>-0.677190</td>\n",
       "      <td>2.377584</td>\n",
       "      <td>-0.764575</td>\n",
       "    </tr>\n",
       "    <tr>\n",
       "      <th>2000-01-05</th>\n",
       "      <td>-0.892768</td>\n",
       "      <td>1.747055</td>\n",
       "      <td>-0.672681</td>\n",
       "    </tr>\n",
       "    <tr>\n",
       "      <th>2000-01-06</th>\n",
       "      <td>-2.100031</td>\n",
       "      <td>2.234710</td>\n",
       "      <td>-1.314329</td>\n",
       "    </tr>\n",
       "    <tr>\n",
       "      <th>2000-01-07</th>\n",
       "      <td>-1.458504</td>\n",
       "      <td>3.485393</td>\n",
       "      <td>-0.673807</td>\n",
       "    </tr>\n",
       "    <tr>\n",
       "      <th>2000-01-08</th>\n",
       "      <td>-1.001579</td>\n",
       "      <td>3.055856</td>\n",
       "      <td>-1.339435</td>\n",
       "    </tr>\n",
       "    <tr>\n",
       "      <th>2000-01-09</th>\n",
       "      <td>-0.189259</td>\n",
       "      <td>4.399352</td>\n",
       "      <td>-0.788718</td>\n",
       "    </tr>\n",
       "    <tr>\n",
       "      <th>2000-01-10</th>\n",
       "      <td>0.603671</td>\n",
       "      <td>4.577256</td>\n",
       "      <td>-0.705698</td>\n",
       "    </tr>\n",
       "  </tbody>\n",
       "</table>\n",
       "</div>"
      ],
      "text/plain": [
       "                   A         B         C\n",
       "2000-01-01 -0.381921  0.197892 -0.387883\n",
       "2000-01-02 -1.283849  0.631795 -0.984351\n",
       "2000-01-03 -0.561875  0.727460 -0.631296\n",
       "2000-01-04 -0.677190  2.377584 -0.764575\n",
       "2000-01-05 -0.892768  1.747055 -0.672681\n",
       "2000-01-06 -2.100031  2.234710 -1.314329\n",
       "2000-01-07 -1.458504  3.485393 -0.673807\n",
       "2000-01-08 -1.001579  3.055856 -1.339435\n",
       "2000-01-09 -0.189259  4.399352 -0.788718\n",
       "2000-01-10  0.603671  4.577256 -0.705698"
      ]
     },
     "execution_count": 31,
     "metadata": {},
     "output_type": "execute_result"
    }
   ],
   "source": [
    "r = dfa.rolling(window=60,min_periods=1)\n",
    "r.aggregate(np.sum)[:10]"
   ]
  },
  {
   "cell_type": "code",
   "execution_count": 32,
   "metadata": {
    "collapsed": false
   },
   "outputs": [
    {
     "data": {
      "text/html": [
       "<div>\n",
       "<table border=\"1\" class=\"dataframe\">\n",
       "  <thead>\n",
       "    <tr style=\"text-align: right;\">\n",
       "      <th></th>\n",
       "      <th>sum</th>\n",
       "      <th>mean</th>\n",
       "      <th>std</th>\n",
       "    </tr>\n",
       "  </thead>\n",
       "  <tbody>\n",
       "    <tr>\n",
       "      <th>2000-01-01</th>\n",
       "      <td>-0.381921</td>\n",
       "      <td>-0.381921</td>\n",
       "      <td>NaN</td>\n",
       "    </tr>\n",
       "    <tr>\n",
       "      <th>2000-01-02</th>\n",
       "      <td>-1.283849</td>\n",
       "      <td>-0.641925</td>\n",
       "      <td>0.367700</td>\n",
       "    </tr>\n",
       "    <tr>\n",
       "      <th>2000-01-03</th>\n",
       "      <td>-0.561875</td>\n",
       "      <td>-0.187292</td>\n",
       "      <td>0.829262</td>\n",
       "    </tr>\n",
       "    <tr>\n",
       "      <th>2000-01-04</th>\n",
       "      <td>-0.677190</td>\n",
       "      <td>-0.169298</td>\n",
       "      <td>0.678045</td>\n",
       "    </tr>\n",
       "    <tr>\n",
       "      <th>2000-01-05</th>\n",
       "      <td>-0.892768</td>\n",
       "      <td>-0.178554</td>\n",
       "      <td>0.587569</td>\n",
       "    </tr>\n",
       "    <tr>\n",
       "      <th>2000-01-06</th>\n",
       "      <td>-2.100031</td>\n",
       "      <td>-0.350005</td>\n",
       "      <td>0.672729</td>\n",
       "    </tr>\n",
       "    <tr>\n",
       "      <th>2000-01-07</th>\n",
       "      <td>-1.458504</td>\n",
       "      <td>-0.208358</td>\n",
       "      <td>0.719433</td>\n",
       "    </tr>\n",
       "    <tr>\n",
       "      <th>2000-01-08</th>\n",
       "      <td>-1.001579</td>\n",
       "      <td>-0.125197</td>\n",
       "      <td>0.706377</td>\n",
       "    </tr>\n",
       "    <tr>\n",
       "      <th>2000-01-09</th>\n",
       "      <td>-0.189259</td>\n",
       "      <td>-0.021029</td>\n",
       "      <td>0.730929</td>\n",
       "    </tr>\n",
       "    <tr>\n",
       "      <th>2000-01-10</th>\n",
       "      <td>0.603671</td>\n",
       "      <td>0.060367</td>\n",
       "      <td>0.735628</td>\n",
       "    </tr>\n",
       "  </tbody>\n",
       "</table>\n",
       "</div>"
      ],
      "text/plain": [
       "                 sum      mean       std\n",
       "2000-01-01 -0.381921 -0.381921       NaN\n",
       "2000-01-02 -1.283849 -0.641925  0.367700\n",
       "2000-01-03 -0.561875 -0.187292  0.829262\n",
       "2000-01-04 -0.677190 -0.169298  0.678045\n",
       "2000-01-05 -0.892768 -0.178554  0.587569\n",
       "2000-01-06 -2.100031 -0.350005  0.672729\n",
       "2000-01-07 -1.458504 -0.208358  0.719433\n",
       "2000-01-08 -1.001579 -0.125197  0.706377\n",
       "2000-01-09 -0.189259 -0.021029  0.730929\n",
       "2000-01-10  0.603671  0.060367  0.735628"
      ]
     },
     "execution_count": 32,
     "metadata": {},
     "output_type": "execute_result"
    }
   ],
   "source": [
    "r['A'].agg([np.sum, np.mean, np.std])[:10]"
   ]
  },
  {
   "cell_type": "code",
   "execution_count": 33,
   "metadata": {
    "collapsed": false
   },
   "outputs": [
    {
     "data": {
      "text/html": [
       "<div>\n",
       "<table border=\"1\" class=\"dataframe\">\n",
       "  <thead>\n",
       "    <tr style=\"text-align: right;\">\n",
       "      <th></th>\n",
       "      <th>result1</th>\n",
       "      <th>result2</th>\n",
       "    </tr>\n",
       "  </thead>\n",
       "  <tbody>\n",
       "    <tr>\n",
       "      <th>2000-01-01</th>\n",
       "      <td>-0.381921</td>\n",
       "      <td>-0.381921</td>\n",
       "    </tr>\n",
       "    <tr>\n",
       "      <th>2000-01-02</th>\n",
       "      <td>-1.283849</td>\n",
       "      <td>-0.641925</td>\n",
       "    </tr>\n",
       "    <tr>\n",
       "      <th>2000-01-03</th>\n",
       "      <td>-0.561875</td>\n",
       "      <td>-0.187292</td>\n",
       "    </tr>\n",
       "    <tr>\n",
       "      <th>2000-01-04</th>\n",
       "      <td>-0.677190</td>\n",
       "      <td>-0.169298</td>\n",
       "    </tr>\n",
       "    <tr>\n",
       "      <th>2000-01-05</th>\n",
       "      <td>-0.892768</td>\n",
       "      <td>-0.178554</td>\n",
       "    </tr>\n",
       "    <tr>\n",
       "      <th>2000-01-06</th>\n",
       "      <td>-2.100031</td>\n",
       "      <td>-0.350005</td>\n",
       "    </tr>\n",
       "    <tr>\n",
       "      <th>2000-01-07</th>\n",
       "      <td>-1.458504</td>\n",
       "      <td>-0.208358</td>\n",
       "    </tr>\n",
       "    <tr>\n",
       "      <th>2000-01-08</th>\n",
       "      <td>-1.001579</td>\n",
       "      <td>-0.125197</td>\n",
       "    </tr>\n",
       "    <tr>\n",
       "      <th>2000-01-09</th>\n",
       "      <td>-0.189259</td>\n",
       "      <td>-0.021029</td>\n",
       "    </tr>\n",
       "    <tr>\n",
       "      <th>2000-01-10</th>\n",
       "      <td>0.603671</td>\n",
       "      <td>0.060367</td>\n",
       "    </tr>\n",
       "  </tbody>\n",
       "</table>\n",
       "</div>"
      ],
      "text/plain": [
       "             result1   result2\n",
       "2000-01-01 -0.381921 -0.381921\n",
       "2000-01-02 -1.283849 -0.641925\n",
       "2000-01-03 -0.561875 -0.187292\n",
       "2000-01-04 -0.677190 -0.169298\n",
       "2000-01-05 -0.892768 -0.178554\n",
       "2000-01-06 -2.100031 -0.350005\n",
       "2000-01-07 -1.458504 -0.208358\n",
       "2000-01-08 -1.001579 -0.125197\n",
       "2000-01-09 -0.189259 -0.021029\n",
       "2000-01-10  0.603671  0.060367"
      ]
     },
     "execution_count": 33,
     "metadata": {},
     "output_type": "execute_result"
    }
   ],
   "source": [
    "r['A'].agg({'result1' : np.sum,'result2' : np.mean})[:10]"
   ]
  },
  {
   "cell_type": "code",
   "execution_count": 34,
   "metadata": {
    "collapsed": false
   },
   "outputs": [
    {
     "data": {
      "text/html": [
       "<div>\n",
       "<table border=\"1\" class=\"dataframe\">\n",
       "  <thead>\n",
       "    <tr>\n",
       "      <th></th>\n",
       "      <th colspan=\"2\" halign=\"left\">A</th>\n",
       "      <th colspan=\"2\" halign=\"left\">B</th>\n",
       "      <th colspan=\"2\" halign=\"left\">C</th>\n",
       "    </tr>\n",
       "    <tr>\n",
       "      <th></th>\n",
       "      <th>sum</th>\n",
       "      <th>mean</th>\n",
       "      <th>sum</th>\n",
       "      <th>mean</th>\n",
       "      <th>sum</th>\n",
       "      <th>mean</th>\n",
       "    </tr>\n",
       "  </thead>\n",
       "  <tbody>\n",
       "    <tr>\n",
       "      <th>2000-01-01</th>\n",
       "      <td>-0.381921</td>\n",
       "      <td>-0.381921</td>\n",
       "      <td>0.197892</td>\n",
       "      <td>0.197892</td>\n",
       "      <td>-0.387883</td>\n",
       "      <td>-0.387883</td>\n",
       "    </tr>\n",
       "    <tr>\n",
       "      <th>2000-01-02</th>\n",
       "      <td>-1.283849</td>\n",
       "      <td>-0.641925</td>\n",
       "      <td>0.631795</td>\n",
       "      <td>0.315897</td>\n",
       "      <td>-0.984351</td>\n",
       "      <td>-0.492176</td>\n",
       "    </tr>\n",
       "    <tr>\n",
       "      <th>2000-01-03</th>\n",
       "      <td>-0.561875</td>\n",
       "      <td>-0.187292</td>\n",
       "      <td>0.727460</td>\n",
       "      <td>0.242487</td>\n",
       "      <td>-0.631296</td>\n",
       "      <td>-0.210432</td>\n",
       "    </tr>\n",
       "    <tr>\n",
       "      <th>2000-01-04</th>\n",
       "      <td>-0.677190</td>\n",
       "      <td>-0.169298</td>\n",
       "      <td>2.377584</td>\n",
       "      <td>0.594396</td>\n",
       "      <td>-0.764575</td>\n",
       "      <td>-0.191144</td>\n",
       "    </tr>\n",
       "    <tr>\n",
       "      <th>2000-01-05</th>\n",
       "      <td>-0.892768</td>\n",
       "      <td>-0.178554</td>\n",
       "      <td>1.747055</td>\n",
       "      <td>0.349411</td>\n",
       "      <td>-0.672681</td>\n",
       "      <td>-0.134536</td>\n",
       "    </tr>\n",
       "    <tr>\n",
       "      <th>2000-01-06</th>\n",
       "      <td>-2.100031</td>\n",
       "      <td>-0.350005</td>\n",
       "      <td>2.234710</td>\n",
       "      <td>0.372452</td>\n",
       "      <td>-1.314329</td>\n",
       "      <td>-0.219055</td>\n",
       "    </tr>\n",
       "    <tr>\n",
       "      <th>2000-01-07</th>\n",
       "      <td>-1.458504</td>\n",
       "      <td>-0.208358</td>\n",
       "      <td>3.485393</td>\n",
       "      <td>0.497913</td>\n",
       "      <td>-0.673807</td>\n",
       "      <td>-0.096258</td>\n",
       "    </tr>\n",
       "    <tr>\n",
       "      <th>2000-01-08</th>\n",
       "      <td>-1.001579</td>\n",
       "      <td>-0.125197</td>\n",
       "      <td>3.055856</td>\n",
       "      <td>0.381982</td>\n",
       "      <td>-1.339435</td>\n",
       "      <td>-0.167429</td>\n",
       "    </tr>\n",
       "    <tr>\n",
       "      <th>2000-01-09</th>\n",
       "      <td>-0.189259</td>\n",
       "      <td>-0.021029</td>\n",
       "      <td>4.399352</td>\n",
       "      <td>0.488817</td>\n",
       "      <td>-0.788718</td>\n",
       "      <td>-0.087635</td>\n",
       "    </tr>\n",
       "    <tr>\n",
       "      <th>2000-01-10</th>\n",
       "      <td>0.603671</td>\n",
       "      <td>0.060367</td>\n",
       "      <td>4.577256</td>\n",
       "      <td>0.457726</td>\n",
       "      <td>-0.705698</td>\n",
       "      <td>-0.070570</td>\n",
       "    </tr>\n",
       "  </tbody>\n",
       "</table>\n",
       "</div>"
      ],
      "text/plain": [
       "                   A                   B                   C          \n",
       "                 sum      mean       sum      mean       sum      mean\n",
       "2000-01-01 -0.381921 -0.381921  0.197892  0.197892 -0.387883 -0.387883\n",
       "2000-01-02 -1.283849 -0.641925  0.631795  0.315897 -0.984351 -0.492176\n",
       "2000-01-03 -0.561875 -0.187292  0.727460  0.242487 -0.631296 -0.210432\n",
       "2000-01-04 -0.677190 -0.169298  2.377584  0.594396 -0.764575 -0.191144\n",
       "2000-01-05 -0.892768 -0.178554  1.747055  0.349411 -0.672681 -0.134536\n",
       "2000-01-06 -2.100031 -0.350005  2.234710  0.372452 -1.314329 -0.219055\n",
       "2000-01-07 -1.458504 -0.208358  3.485393  0.497913 -0.673807 -0.096258\n",
       "2000-01-08 -1.001579 -0.125197  3.055856  0.381982 -1.339435 -0.167429\n",
       "2000-01-09 -0.189259 -0.021029  4.399352  0.488817 -0.788718 -0.087635\n",
       "2000-01-10  0.603671  0.060367  4.577256  0.457726 -0.705698 -0.070570"
      ]
     },
     "execution_count": 34,
     "metadata": {},
     "output_type": "execute_result"
    }
   ],
   "source": [
    "r.agg([np.sum, np.mean])[:10]"
   ]
  },
  {
   "cell_type": "markdown",
   "metadata": {},
   "source": [
    "+ ### expanding函数\n",
    "\n",
    "`expanding(window,min_periods,center,axis)`\n",
    "\n",
    "滚动统计的一个常见替代方法是使用扩展窗口，该窗口产生具有到达该时间点之前可用的所有数据的统计的值。\n",
    "\n",
    "他的接口接近.rolling的接口，.expanding方法返回一个Expanding对象。我们可以对比下一下两个函数,他们是等效的"
   ]
  },
  {
   "cell_type": "code",
   "execution_count": 35,
   "metadata": {
    "collapsed": false
   },
   "outputs": [
    {
     "data": {
      "text/html": [
       "<div>\n",
       "<table border=\"1\" class=\"dataframe\">\n",
       "  <thead>\n",
       "    <tr style=\"text-align: right;\">\n",
       "      <th></th>\n",
       "      <th>A</th>\n",
       "      <th>B</th>\n",
       "      <th>C</th>\n",
       "      <th>D</th>\n",
       "    </tr>\n",
       "  </thead>\n",
       "  <tbody>\n",
       "    <tr>\n",
       "      <th>2000-01-01</th>\n",
       "      <td>0.229987</td>\n",
       "      <td>-1.887123</td>\n",
       "      <td>0.039168</td>\n",
       "      <td>0.058430</td>\n",
       "    </tr>\n",
       "    <tr>\n",
       "      <th>2000-01-02</th>\n",
       "      <td>-0.235200</td>\n",
       "      <td>-1.471578</td>\n",
       "      <td>-0.230086</td>\n",
       "      <td>-0.237068</td>\n",
       "    </tr>\n",
       "    <tr>\n",
       "      <th>2000-01-03</th>\n",
       "      <td>-0.784645</td>\n",
       "      <td>-0.965294</td>\n",
       "      <td>-0.766004</td>\n",
       "      <td>-0.240188</td>\n",
       "    </tr>\n",
       "    <tr>\n",
       "      <th>2000-01-04</th>\n",
       "      <td>-1.142385</td>\n",
       "      <td>-0.637957</td>\n",
       "      <td>-0.714035</td>\n",
       "      <td>-0.266348</td>\n",
       "    </tr>\n",
       "    <tr>\n",
       "      <th>2000-01-05</th>\n",
       "      <td>-1.151739</td>\n",
       "      <td>-0.567396</td>\n",
       "      <td>-0.556405</td>\n",
       "      <td>-0.068604</td>\n",
       "    </tr>\n",
       "  </tbody>\n",
       "</table>\n",
       "</div>"
      ],
      "text/plain": [
       "                   A         B         C         D\n",
       "2000-01-01  0.229987 -1.887123  0.039168  0.058430\n",
       "2000-01-02 -0.235200 -1.471578 -0.230086 -0.237068\n",
       "2000-01-03 -0.784645 -0.965294 -0.766004 -0.240188\n",
       "2000-01-04 -1.142385 -0.637957 -0.714035 -0.266348\n",
       "2000-01-05 -1.151739 -0.567396 -0.556405 -0.068604"
      ]
     },
     "execution_count": 35,
     "metadata": {},
     "output_type": "execute_result"
    }
   ],
   "source": [
    "df.rolling(window=len(df), min_periods=1).mean()[:5]"
   ]
  },
  {
   "cell_type": "code",
   "execution_count": 36,
   "metadata": {
    "collapsed": false
   },
   "outputs": [
    {
     "data": {
      "text/html": [
       "<div>\n",
       "<table border=\"1\" class=\"dataframe\">\n",
       "  <thead>\n",
       "    <tr style=\"text-align: right;\">\n",
       "      <th></th>\n",
       "      <th>A</th>\n",
       "      <th>B</th>\n",
       "      <th>C</th>\n",
       "      <th>D</th>\n",
       "    </tr>\n",
       "  </thead>\n",
       "  <tbody>\n",
       "    <tr>\n",
       "      <th>2000-01-01</th>\n",
       "      <td>0.229987</td>\n",
       "      <td>-1.887123</td>\n",
       "      <td>0.039168</td>\n",
       "      <td>0.058430</td>\n",
       "    </tr>\n",
       "    <tr>\n",
       "      <th>2000-01-02</th>\n",
       "      <td>-0.235200</td>\n",
       "      <td>-1.471578</td>\n",
       "      <td>-0.230086</td>\n",
       "      <td>-0.237068</td>\n",
       "    </tr>\n",
       "    <tr>\n",
       "      <th>2000-01-03</th>\n",
       "      <td>-0.784645</td>\n",
       "      <td>-0.965294</td>\n",
       "      <td>-0.766004</td>\n",
       "      <td>-0.240188</td>\n",
       "    </tr>\n",
       "    <tr>\n",
       "      <th>2000-01-04</th>\n",
       "      <td>-1.142385</td>\n",
       "      <td>-0.637957</td>\n",
       "      <td>-0.714035</td>\n",
       "      <td>-0.266348</td>\n",
       "    </tr>\n",
       "    <tr>\n",
       "      <th>2000-01-05</th>\n",
       "      <td>-1.151739</td>\n",
       "      <td>-0.567396</td>\n",
       "      <td>-0.556405</td>\n",
       "      <td>-0.068604</td>\n",
       "    </tr>\n",
       "  </tbody>\n",
       "</table>\n",
       "</div>"
      ],
      "text/plain": [
       "                   A         B         C         D\n",
       "2000-01-01  0.229987 -1.887123  0.039168  0.058430\n",
       "2000-01-02 -0.235200 -1.471578 -0.230086 -0.237068\n",
       "2000-01-03 -0.784645 -0.965294 -0.766004 -0.240188\n",
       "2000-01-04 -1.142385 -0.637957 -0.714035 -0.266348\n",
       "2000-01-05 -1.151739 -0.567396 -0.556405 -0.068604"
      ]
     },
     "execution_count": 36,
     "metadata": {},
     "output_type": "execute_result"
    }
   ],
   "source": [
    "df.expanding(min_periods=1).mean()[:5]"
   ]
  },
  {
   "cell_type": "code",
   "execution_count": 37,
   "metadata": {
    "collapsed": false
   },
   "outputs": [
    {
     "data": {
      "text/plain": [
       "<matplotlib.axes._subplots.AxesSubplot at 0x14687fb5da0>"
      ]
     },
     "execution_count": 37,
     "metadata": {},
     "output_type": "execute_result"
    },
    {
     "data": {
      "image/png": "[encoded data removed]",
      "text/plain": [
       "<matplotlib.figure.Figure at 0x1468984a9e8>"
      ]
     },
     "metadata": {},
     "output_type": "display_data"
    }
   ],
   "source": [
    "s.plot(style='k--')\n",
    "s.expanding().mean().plot(style='k')"
   ]
  },
  {
   "cell_type": "markdown",
   "metadata": {},
   "source": [
    "+ ### 指数加权窗口ewm\n",
    "\n",
    "ewm是几个上述统计量的指数加权版本。\n",
    "他支持的默认方法比较少\n",
    "\n",
    "Function|Description\n",
    "---|---\n",
    "mean()|EW moving average\n",
    "var()|EW moving variance\n",
    "std()|EW moving standard deviation\n",
    "corr()|EW moving correlation\n",
    "cov()|EW moving covariance"
   ]
  },
  {
   "cell_type": "code",
   "execution_count": 38,
   "metadata": {
    "collapsed": false
   },
   "outputs": [
    {
     "data": {
      "text/plain": [
       "<matplotlib.axes._subplots.AxesSubplot at 0x14689974ba8>"
      ]
     },
     "execution_count": 38,
     "metadata": {},
     "output_type": "execute_result"
    },
    {
     "data": {
      "image/png": "[encoded data removed]",
      "text/plain": [
       "<matplotlib.figure.Figure at 0x1468991eef0>"
      ]
     },
     "metadata": {},
     "output_type": "display_data"
    }
   ],
   "source": [
    "s.plot(style='k--')\n",
    "s.ewm(span=20).mean().plot(style='k')"
   ]
  }
 ],
 "metadata": {
  "anaconda-cloud": {},
  "kernelspec": {
   "display_name": "Python 3",
   "language": "python",
   "name": "python3"
  },
  "language_info": {
   "codemirror_mode": {
    "name": "ipython",
    "version": 3
   },
   "file_extension": ".py",
   "mimetype": "text/x-python",
   "name": "python",
   "nbconvert_exporter": "python",
   "pygments_lexer": "ipython3",
   "version": "3.6.0"
  }
 },
 "nbformat": 4,
 "nbformat_minor": 1
}
