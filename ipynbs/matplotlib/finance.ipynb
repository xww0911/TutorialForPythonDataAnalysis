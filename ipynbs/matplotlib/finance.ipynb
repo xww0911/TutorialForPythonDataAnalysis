{
 "cells": [
  {
   "cell_type": "markdown",
   "metadata": {
    "collapsed": true
   },
   "source": [
    "# finance模块\n",
    "\n",
    "matplotlib.finance是matplotlib包中唯一和图形图像没啥关系的一个模块\n",
    "\n",
    "它可以用于收集，分析和绘制财务数据的功能集合"
   ]
  },
  {
   "cell_type": "code",
   "execution_count": 1,
   "metadata": {},
   "outputs": [
    {
     "name": "stderr",
     "output_type": "stream",
     "text": [
      "/Users/huangsizhe/LIB/CONDA/anaconda/lib/python3.6/site-packages/matplotlib/cbook.py:136: MatplotlibDeprecationWarning: The finance module has been deprecated in mpl 2.0 and will be removed in mpl 2.2. Please use the module mpl_finance instead.\n",
      "  warnings.warn(message, mplDeprecation, stacklevel=1)\n"
     ]
    }
   ],
   "source": [
    "import matplotlib.pyplot as plt\n",
    "from matplotlib.finance import quotes_historical_yahoo_ochl ,fetch_historical_yahoo,quotes_historical_yahoo_ohlc\n",
    "from matplotlib.dates import YearLocator, MonthLocator, DateFormatter  ,WeekdayLocator,MONDAY,DayLocator\n",
    "from matplotlib.finance import parse_yahoo_historical_ochl,parse_yahoo_historical_ohlc\n",
    "import datetime  \n",
    "import numpy as np"
   ]
  },
  {
   "cell_type": "code",
   "execution_count": 2,
   "metadata": {
    "collapsed": true
   },
   "outputs": [],
   "source": [
    "%matplotlib inline"
   ]
  },
  {
   "cell_type": "code",
   "execution_count": 3,
   "metadata": {},
   "outputs": [],
   "source": [
    "plt.style.use('chinese_support')"
   ]
  },
  {
   "cell_type": "markdown",
   "metadata": {},
   "source": [
    "## 数据获取:\n",
    "\n",
    "+ ### `matplotlib.finance.fetch_historical_yahoo(ticker, date1, date2, cachename=None, dividends=False)`\n",
    "\n",
    "在date1和date2之间获取代码的历史数据。date1和date2是日期或datetime实例，或（年，月，日）序列。\n",
    "其中`dividends = True`则返回股息而不是价格数据。使用此选项设置，解析函数将不工作.它返回一个打开的file对象,以标普500为例"
   ]
  },
  {
   "cell_type": "code",
   "execution_count": 4,
   "metadata": {},
   "outputs": [
    {
     "name": "stdout",
     "output_type": "stream",
     "text": [
      "['Date,Open,High,Low,Close,Volume,Adj Close\\n', '2001-12-31,1161.02002,1161.160034,1148.040039,1148.079956,943600000,1148.079956\\n', '2001-12-28,1157.130005,1164.640015,1157.130005,1161.02002,917400000,1161.02002\\n', '2001-12-27,1149.369995,1157.130005,1149.369995,1157.130005,876300000,1157.130005\\n', '2001-12-26,1144.650024,1159.180054,1144.650024,1149.369995,791100000,1149.369995\\n']\n"
     ]
    }
   ],
   "source": [
    "with fetch_historical_yahoo('^GSPC', (2000, 1, 1), (2001, 12, 31)) as fh:\n",
    "    print(fh.readlines()[:5])"
   ]
  },
  {
   "cell_type": "markdown",
   "metadata": {},
   "source": [
    "因为获取的是文件类型,finance模块还提供了解析工具\n",
    "\n",
    "+ `matplotlib.finance.parse_yahoo_historical_ohlc(fh, adjusted=True, asobject=False)`\n",
    "\n",
    "    输出对应(时间戳,开市,最高,最低,闭市,成交量)\n",
    "    \n",
    "    \n",
    "+ `matplotlib.finance.parse_yahoo_historical_ochl(fh, adjusted=True, asobject=False)`\n",
    "\n",
    "    输出对应(时间戳,开市,闭市,最高,最低,成交量)\n"
   ]
  },
  {
   "cell_type": "code",
   "execution_count": 5,
   "metadata": {},
   "outputs": [
    {
     "name": "stdout",
     "output_type": "stream",
     "text": [
      "[(735953.0, 2010.2700199999999, 2022.900024, 2005.9300539999999, 2021.150024, 3760280000.0), (735954.0, 2023.150024, 2042.73999, 2020.48999, 2038.969971, 3520860000.0), (735955.0, 2042.1999510000001, 2064.7299800000001, 2042.1999510000001, 2064.290039, 3484090000.0), (735956.0, 2063.5200199999999, 2067.360107, 2058.7299800000001, 2060.98999, 1411860000.0), (735960.0, 2057.7700199999999, 2057.7700199999999, 2044.1999510000001, 2056.5, 2492510000.0)]\n"
     ]
    }
   ],
   "source": [
    "with fetch_historical_yahoo('^GSPC', (2015, 12, 20), (2016, 12, 20)) as fh:\n",
    "    print(parse_yahoo_historical_ohlc(fh)[:5])\n",
    "    "
   ]
  },
  {
   "cell_type": "code",
   "execution_count": 6,
   "metadata": {},
   "outputs": [
    {
     "name": "stdout",
     "output_type": "stream",
     "text": [
      "[(735953.0, 2010.2700199999999, 2021.150024, 2022.900024, 2005.9300539999999, 3760280000.0), (735954.0, 2023.150024, 2038.969971, 2042.73999, 2020.48999, 3520860000.0), (735955.0, 2042.1999510000001, 2064.290039, 2064.7299800000001, 2042.1999510000001, 3484090000.0), (735956.0, 2063.5200199999999, 2060.98999, 2067.360107, 2058.7299800000001, 1411860000.0), (735960.0, 2057.7700199999999, 2056.5, 2057.7700199999999, 2044.1999510000001, 2492510000.0)]\n"
     ]
    }
   ],
   "source": [
    "with fetch_historical_yahoo('^GSPC', (2015, 12, 20), (2016, 12, 20)) as fh:\n",
    "    print(parse_yahoo_historical_ochl(fh)[:5])"
   ]
  },
  {
   "cell_type": "markdown",
   "metadata": {},
   "source": [
    "而下两个则是直接返回解析好的结果\n",
    "\n",
    "+ `matplotlib.finance.quotes_historical_yahoo_ochl(ticker, date1, date2, asobject=False, adjusted=True, cachename=None)`\n",
    "\n",
    "+ `matplotlib.finance.quotes_historical_yahoo_ohlc(ticker, date1, date2, asobject=False, adjusted=True, cachename=None)`"
   ]
  },
  {
   "cell_type": "code",
   "execution_count": 7,
   "metadata": {},
   "outputs": [
    {
     "data": {
      "text/plain": [
       "[(735953.0,\n",
       "  2010.2700199999999,\n",
       "  2021.150024,\n",
       "  2022.900024,\n",
       "  2005.9300539999999,\n",
       "  3760280000.0),\n",
       " (735954.0, 2023.150024, 2038.969971, 2042.73999, 2020.48999, 3520860000.0)]"
      ]
     },
     "execution_count": 7,
     "metadata": {},
     "output_type": "execute_result"
    }
   ],
   "source": [
    "quotes_historical_yahoo_ochl('^GSPC', (2015, 12, 20), (2016, 12, 20))[:2]"
   ]
  },
  {
   "cell_type": "code",
   "execution_count": 8,
   "metadata": {
    "scrolled": true
   },
   "outputs": [
    {
     "data": {
      "text/plain": [
       "[(735953.0,\n",
       "  2010.2700199999999,\n",
       "  2022.900024,\n",
       "  2005.9300539999999,\n",
       "  2021.150024,\n",
       "  3760280000.0),\n",
       " (735954.0, 2023.150024, 2042.73999, 2020.48999, 2038.969971, 3520860000.0)]"
      ]
     },
     "execution_count": 8,
     "metadata": {},
     "output_type": "execute_result"
    }
   ],
   "source": [
    "quotes_historical_yahoo_ohlc('^GSPC', (2015, 12, 20), (2016, 12, 20))[:2]"
   ]
  },
  {
   "cell_type": "markdown",
   "metadata": {},
   "source": [
    "## 绘制k线图\n",
    "\n",
    "### 以价格为参数的方法\n",
    "\n",
    "+ `matplotlib.finance.candlestick2_ochl(ax, opens, closes, highs, lows, width=4, colorup='k', colordown='r', alpha=0.75)`\n",
    "    输入对应(时间戳,开市,闭市,最高,最低,成交量)\n",
    "\n",
    "+ `matplotlib.finance.candlestick2_ohlc(ax, opens, highs, lows, closes, width=4, colorup='k', colordown='r', alpha=0.75)`\n",
    "    输入对应(时间戳,开市,最高,最低,闭市,成交量)\n",
    "\n",
    "### 以解析出来的原始序列为参数\n",
    "\n",
    "+ `matplotlib.finance.candlestick_ochl(ax, quotes, width=0.2, colorup='k', colordown='r', alpha=1.0)`\n",
    "    输入对应(时间戳,开市,闭市,最高,最低,成交量)\n",
    "\n",
    "+ `matplotlib.finance.candlestick_ohlc(ax, quotes, width=0.2, colorup='k', colordown='r', alpha=1.0)`\n",
    "    输入对应(时间戳,开市,最高,最低,闭市,成交量)"
   ]
  },
  {
   "cell_type": "code",
   "execution_count": 9,
   "metadata": {
    "collapsed": true
   },
   "outputs": [],
   "source": [
    "from matplotlib.finance import candlestick2_ochl,candlestick2_ohlc,candlestick_ochl,candlestick_ohlc"
   ]
  },
  {
   "cell_type": "code",
   "execution_count": 10,
   "metadata": {},
   "outputs": [],
   "source": [
    "#设置x轴坐标刻度\n",
    "mondays = WeekdayLocator(MONDAY)            # 主要刻度\n",
    "alldays = DayLocator()                      # 次要刻度\n",
    "\n",
    "mondayFormatter = DateFormatter('%m-%d-%Y') # 如：2-29-2015\n",
    "dayFormatter = DateFormatter('%d')  "
   ]
  },
  {
   "cell_type": "code",
   "execution_count": 11,
   "metadata": {},
   "outputs": [],
   "source": [
    "# 数据处理\n",
    "quotes_ochl = quotes_historical_yahoo_ochl('^GSPC', (2015, 12, 20), (2016, 6, 20))\n",
    "\n",
    "ochl = np.array(quotes_ochl).T[1:-1]\n",
    "quotes_ohlc = quotes_historical_yahoo_ohlc('^GSPC', (2015, 12, 20), (2016, 6, 20))\n",
    "ohlc = np.array(quotes_ohlc).T[1:-1]\n",
    "\n"
   ]
  },
  {
   "cell_type": "code",
   "execution_count": 12,
   "metadata": {},
   "outputs": [
    {
     "data": {
      "image/png": "[encoded data removed]",
      "text/plain": [
       "<matplotlib.figure.Figure at 0x10fdffa20>"
      ]
     },
     "metadata": {},
     "output_type": "display_data"
    }
   ],
   "source": [
    "# 设置x坐标轴\n",
    "fig, ax = plt.subplots()\n",
    "fig.subplots_adjust(bottom=0.2)\n",
    "\n",
    "ax.xaxis.set_major_locator(mondays)\n",
    "ax.xaxis.set_minor_locator(alldays)\n",
    "ax.xaxis.set_major_formatter(mondayFormatter)\n",
    "            \n",
    "    \n",
    "# 绘制图形\n",
    "candlestick_ohlc(ax, quotes_ohlc, width=0.6, colorup='r', colordown='g')\n",
    "ax.xaxis_date()\n",
    "ax.autoscale_view()\n",
    "plt.setp(plt.gca().get_xticklabels(), rotation=45, horizontalalignment='right')\n",
    "\n",
    "ax.grid(True)\n",
    "plt.title(u'标普500')\n",
    "plt.show()"
   ]
  },
  {
   "cell_type": "code",
   "execution_count": 13,
   "metadata": {},
   "outputs": [
    {
     "data": {
      "image/png": "[encoded data removed]",
      "text/plain": [
       "<matplotlib.figure.Figure at 0x11319b780>"
      ]
     },
     "metadata": {},
     "output_type": "display_data"
    }
   ],
   "source": [
    "# 设置x坐标轴\n",
    "fig, ax = plt.subplots()\n",
    "fig.subplots_adjust(bottom=0.2)\n",
    "\n",
    "ax.xaxis.set_major_locator(mondays)\n",
    "ax.xaxis.set_minor_locator(alldays)\n",
    "ax.xaxis.set_major_formatter(mondayFormatter)\n",
    "            \n",
    "    \n",
    "# 绘制图形\n",
    "o,h,l,c = ohlc\n",
    "candlestick2_ohlc(ax, o,h,l,c , width=0.6, colorup='r', colordown='g')\n",
    "ax.xaxis_date()\n",
    "ax.autoscale_view()\n",
    "plt.setp(plt.gca().get_xticklabels(), rotation=45, horizontalalignment='right')\n",
    "\n",
    "ax.grid(True)\n",
    "plt.title(u'标普500')\n",
    "plt.show()"
   ]
  },
  {
   "cell_type": "markdown",
   "metadata": {},
   "source": [
    "## 绘制天的数据\n",
    "\n",
    "这种图的上下柱是交易的最高最低值,而侧柱则表示开盘价和收盘价\n",
    "\n",
    "### 以价格为参数的方法\n",
    "\n",
    "+ `matplotlib.finance.plot_day_summary2_ochl(ax, opens, closes, highs, lows, ticksize=4, colorup='k', colordown='r')`\n",
    "\n",
    "+ `matplotlib.finance.plot_day_summary2_ohlc(ax, opens, highs, lows, closes, ticksize=4, colorup='k', colordown='r')`\n",
    "\n",
    "### 以解析出来的原始序列为参数\n",
    "\n",
    "+ `matplotlib.finance.plot_day_summary_oclh(ax, quotes, ticksize=3, colorup='k', colordown='r')`\n",
    "\n",
    "+ `matplotlib.finance.plot_day_summary_ohlc(ax, quotes, ticksize=3, colorup='k', colordown='r')`"
   ]
  },
  {
   "cell_type": "code",
   "execution_count": 14,
   "metadata": {
    "collapsed": true
   },
   "outputs": [],
   "source": [
    "from matplotlib.finance import plot_day_summary_oclh"
   ]
  },
  {
   "cell_type": "code",
   "execution_count": 15,
   "metadata": {},
   "outputs": [
    {
     "data": {
      "image/png": "[encoded data removed]",
      "text/plain": [
       "<matplotlib.figure.Figure at 0x10fdff438>"
      ]
     },
     "metadata": {},
     "output_type": "display_data"
    }
   ],
   "source": [
    "# 设置x坐标轴\n",
    "fig, ax = plt.subplots()\n",
    "fig.subplots_adjust(bottom=0.2)\n",
    "\n",
    "ax.xaxis.set_major_locator(mondays)\n",
    "ax.xaxis.set_minor_locator(alldays)\n",
    "ax.xaxis.set_major_formatter(mondayFormatter)\n",
    "\n",
    "plot_day_summary_oclh(ax,quotes_ochl[:7], ticksize= 10,colorup='r', colordown='g')\n",
    "ax.xaxis_date()\n",
    "ax.autoscale_view()\n",
    "#plt.setp(plt.gca().get_xticklabels(), rotation=45, horizontalalignment='right')\n",
    "\n",
    "ax.grid(True)\n",
    "plt.title(u'标普500')\n",
    "plt.show()"
   ]
  },
  {
   "cell_type": "markdown",
   "metadata": {},
   "source": [
    "## 成交量相关的图形\n",
    "\n",
    "+ `matplotlib.finance.index_bar(ax, vals, facecolor='b', edgecolor='l', width=4, alpha=1.0)`\n",
    "\n",
    "+ `matplotlib.finance.volume_overlay(ax, opens, closes, volumes, colorup='k', colordown='r', width=4, alpha=1.0)`\n",
    "\n",
    "+ `matplotlib.finance.volume_overlay2(ax, closes, volumes, colorup='k', colordown='r', width=4, alpha=1.0)`\n",
    "\n",
    "+ `matplotlib.finance.volume_overlay3(ax, quotes, colorup='k', colordown='r', width=4, alpha=1.0)`"
   ]
  },
  {
   "cell_type": "code",
   "execution_count": 16,
   "metadata": {
    "collapsed": true
   },
   "outputs": [],
   "source": [
    "from matplotlib.finance import index_bar,volume_overlay3"
   ]
  },
  {
   "cell_type": "code",
   "execution_count": 17,
   "metadata": {
    "collapsed": true
   },
   "outputs": [],
   "source": [
    "volume = np.array(quotes_ochl).T[-1]/10000000000"
   ]
  },
  {
   "cell_type": "code",
   "execution_count": 18,
   "metadata": {},
   "outputs": [
    {
     "data": {
      "image/png": "[encoded data removed]",
      "text/plain": [
       "<matplotlib.figure.Figure at 0x1135dec50>"
      ]
     },
     "metadata": {},
     "output_type": "display_data"
    }
   ],
   "source": [
    "#fig = plt.figure(figsize=(12,16))\n",
    "\n",
    "\n",
    "fig ,subplots=plt.subplots(3,1)\n",
    "plt.title(u'标普500')\n",
    "\n",
    "fig.set_size_inches((12,16))\n",
    "for i,ax in enumerate(subplots):\n",
    "    ax.xaxis.set_major_locator(mondays)\n",
    "    ax.xaxis.set_minor_locator(alldays)\n",
    "    ax.xaxis.set_major_formatter(mondayFormatter)\n",
    "    if i == 0:\n",
    "        ax.set_ylabel(u'价格')\n",
    "\n",
    "        candlestick_ohlc(ax, quotes_ohlc, width=0.6, colorup='r', colordown='g')        \n",
    "    elif i ==1:\n",
    "        ax.set_ylabel(u'成交量')\n",
    "       \n",
    "        index_bar(ax,volume,facecolor='b', edgecolor='r')\n",
    "    else:\n",
    "        ax.set_ylabel(u'成交量面积')\n",
    "        ax.set_ylim((0, 1e10))\n",
    "        \n",
    "        v = volume_overlay3(ax, quotes_ohlc)\n",
    "    \n",
    "        \n",
    "    ax.xaxis_date()\n",
    "    ax.autoscale_view()\n",
    "    plt.setp(plt.gca().get_xticklabels(), rotation=45, horizontalalignment='right')\n",
    "    ax.grid(True)\n",
    "plt.show()"
   ]
  },
  {
   "cell_type": "code",
   "execution_count": null,
   "metadata": {
    "collapsed": true
   },
   "outputs": [],
   "source": []
  }
 ],
 "metadata": {
  "anaconda-cloud": {},
  "kernelspec": {
   "display_name": "Python 3",
   "language": "python",
   "name": "python3"
  },
  "language_info": {
   "codemirror_mode": {
    "name": "ipython",
    "version": 3
   },
   "file_extension": ".py",
   "mimetype": "text/x-python",
   "name": "python",
   "nbconvert_exporter": "python",
   "pygments_lexer": "ipython3",
   "version": "3.6.0"
  }
 },
 "nbformat": 4,
 "nbformat_minor": 1
}
