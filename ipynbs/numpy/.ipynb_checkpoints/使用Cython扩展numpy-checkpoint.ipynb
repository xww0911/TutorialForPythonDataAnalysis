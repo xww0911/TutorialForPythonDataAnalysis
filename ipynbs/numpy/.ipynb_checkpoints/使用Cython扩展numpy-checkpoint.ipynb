{
 "cells": [
  {
   "cell_type": "markdown",
   "metadata": {
    "collapsed": true
   },
   "source": [
    "# 与numpy结合实现高效的数组操作\n",
    "\n",
    "下面的代码将图像与滤镜进行二维离散卷积(我相信你可以做得更好,让它用于演示).它是有效的Python和有效的Cython代码.我将其称为Python版本的`convolve_py.py`和Cython版本的`convolve1.pyx`"
   ]
  },
  {
   "cell_type": "code",
   "execution_count": 1,
   "metadata": {},
   "outputs": [
    {
     "name": "stdout",
     "output_type": "stream",
     "text": [
      "Writing convolve_py.py\n"
     ]
    }
   ],
   "source": [
    "%%writefile convolve_py.py\n",
    "import numpy as np\n",
    "def naive_convolve(f, g):\n",
    "    # f is an image and is indexed by (v, w)\n",
    "    # g is a filter kernel and is indexed by (s, t),\n",
    "    #   it needs odd dimensions\n",
    "    # h is the output image and is indexed by (x, y),\n",
    "    #   it is not cropped\n",
    "    if g.shape[0] % 2 != 1 or g.shape[1] % 2 != 1:\n",
    "        raise ValueError(\"Only odd dimensions on filter supported\")\n",
    "    # smid and tmid are number of pixels between the center pixel\n",
    "    # and the edge, ie for a 5x5 filter they will be 2.\n",
    "    #\n",
    "    # The output size is calculated by adding smid, tmid to each\n",
    "    # side of the dimensions of the input image.\n",
    "    vmax = f.shape[0]\n",
    "    wmax = f.shape[1]\n",
    "    smax = g.shape[0]\n",
    "    tmax = g.shape[1]\n",
    "    smid = smax // 2\n",
    "    tmid = tmax // 2\n",
    "    xmax = vmax + 2*smid\n",
    "    ymax = wmax + 2*tmid\n",
    "    # Allocate result image.\n",
    "    h = np.zeros([xmax, ymax], dtype=f.dtype)\n",
    "    # Do convolution\n",
    "    for x in range(xmax):\n",
    "        for y in range(ymax):\n",
    "            # Calculate pixel value for h at (x,y). Sum one component\n",
    "            # for each pixel (s, t) of the filter g.\n",
    "            s_from = max(smid - x, -smid)\n",
    "            s_to = min((xmax - x) - smid, smid + 1)\n",
    "            t_from = max(tmid - y, -tmid)\n",
    "            t_to = min((ymax - y) - tmid, tmid + 1)\n",
    "            value = 0\n",
    "            for s in range(s_from, s_to):\n",
    "                for t in range(t_from, t_to):\n",
    "                    v = x - smid + s\n",
    "                    w = y - tmid + t\n",
    "                    value += g[smid - s, tmid - t] * f[v, w]\n",
    "            h[x, y] = value\n",
    "    return h"
   ]
  },
  {
   "cell_type": "code",
   "execution_count": 2,
   "metadata": {
    "collapsed": true
   },
   "outputs": [],
   "source": [
    "import numpy as np"
   ]
  },
  {
   "cell_type": "code",
   "execution_count": 3,
   "metadata": {
    "collapsed": true
   },
   "outputs": [],
   "source": [
    "N = 100\n",
    "f = np.arange(N*N, dtype=np.int).reshape((N,N))\n",
    "g = np.arange(81, dtype=np.int).reshape((9, 9))"
   ]
  },
  {
   "cell_type": "code",
   "execution_count": 4,
   "metadata": {
    "collapsed": true
   },
   "outputs": [],
   "source": [
    "from convolve_py import naive_convolve"
   ]
  },
  {
   "cell_type": "code",
   "execution_count": 5,
   "metadata": {},
   "outputs": [
    {
     "data": {
      "text/plain": [
       "array([[      0,       0,       1, ...,    2056,    1477,     792],\n",
       "       [      0,     109,     329, ...,    8858,    6227,    3275],\n",
       "       [    900,    2127,    3684, ...,   23106,   16050,    8349],\n",
       "       ..., \n",
       "       [1850400, 3730389, 5639970, ..., 6230334, 4183464, 2106687],\n",
       "       [1329300, 2678435, 4047407, ..., 4445402, 2983649, 1501849],\n",
       "       [ 712800, 1435572, 2168317, ..., 2369524, 1589761,  799920]])"
      ]
     },
     "execution_count": 5,
     "metadata": {},
     "output_type": "execute_result"
    }
   ],
   "source": [
    "naive_convolve(f,g)"
   ]
  },
  {
   "cell_type": "code",
   "execution_count": 6,
   "metadata": {},
   "outputs": [
    {
     "name": "stdout",
     "output_type": "stream",
     "text": [
      "786 ms ± 16.5 ms per loop (mean ± std. dev. of 7 runs, 10 loops each)\n"
     ]
    }
   ],
   "source": [
    "%timeit -n10 naive_convolve(f,g)"
   ]
  },
  {
   "cell_type": "markdown",
   "metadata": {},
   "source": [
    "使用cython编译带numpy的代码需要在setup.py中指定`include_dirs=[numpy.get_include()]`"
   ]
  },
  {
   "cell_type": "markdown",
   "metadata": {},
   "source": [
    "## 第一版迭代--使用cython编译以提高性能\n",
    "\n",
    "代码不用改,直接编译以提高性能"
   ]
  },
  {
   "cell_type": "code",
   "execution_count": 7,
   "metadata": {},
   "outputs": [
    {
     "name": "stdout",
     "output_type": "stream",
     "text": [
      "Writing convolve1.pyx\n"
     ]
    }
   ],
   "source": [
    "%%writefile convolve1.pyx\n",
    "\n",
    "import numpy as np\n",
    "def naive_convolve_1(f, g):\n",
    "    # f is an image and is indexed by (v, w)\n",
    "    # g is a filter kernel and is indexed by (s, t),\n",
    "    #   it needs odd dimensions\n",
    "    # h is the output image and is indexed by (x, y),\n",
    "    #   it is not cropped\n",
    "    if g.shape[0] % 2 != 1 or g.shape[1] % 2 != 1:\n",
    "        raise ValueError(\"Only odd dimensions on filter supported\")\n",
    "    # smid and tmid are number of pixels between the center pixel\n",
    "    # and the edge, ie for a 5x5 filter they will be 2.\n",
    "    #\n",
    "    # The output size is calculated by adding smid, tmid to each\n",
    "    # side of the dimensions of the input image.\n",
    "    vmax = f.shape[0]\n",
    "    wmax = f.shape[1]\n",
    "    smax = g.shape[0]\n",
    "    tmax = g.shape[1]\n",
    "    smid = smax // 2\n",
    "    tmid = tmax // 2\n",
    "    xmax = vmax + 2*smid\n",
    "    ymax = wmax + 2*tmid\n",
    "    # Allocate result image.\n",
    "    h = np.zeros([xmax, ymax], dtype=f.dtype)\n",
    "    # Do convolution\n",
    "    for x in range(xmax):\n",
    "        for y in range(ymax):\n",
    "            # Calculate pixel value for h at (x,y). Sum one component\n",
    "            # for each pixel (s, t) of the filter g.\n",
    "            s_from = max(smid - x, -smid)\n",
    "            s_to = min((xmax - x) - smid, smid + 1)\n",
    "            t_from = max(tmid - y, -tmid)\n",
    "            t_to = min((ymax - y) - tmid, tmid + 1)\n",
    "            value = 0\n",
    "            for s in range(s_from, s_to):\n",
    "                for t in range(t_from, t_to):\n",
    "                    v = x - smid + s\n",
    "                    w = y - tmid + t\n",
    "                    value += g[smid - s, tmid - t] * f[v, w]\n",
    "            h[x, y] = value\n",
    "    return h"
   ]
  },
  {
   "cell_type": "code",
   "execution_count": 8,
   "metadata": {},
   "outputs": [
    {
     "name": "stdout",
     "output_type": "stream",
     "text": [
      "Writing setup.py\n"
     ]
    }
   ],
   "source": [
    "%%writefile setup.py\n",
    "\n",
    "from distutils.core import setup\n",
    "from Cython.Build import cythonize\n",
    "from distutils.extension import Extension\n",
    "from Cython.Distutils import build_ext\n",
    "import numpy\n",
    "\n",
    "extension = Extension(\n",
    "           \"convolve1\",\n",
    "           sources=[\"convolve1.pyx\"],\n",
    "           include_dirs=[numpy.get_include()], # 如果用到numpy\n",
    "           language=\"c++\"\n",
    ")\n",
    "\n",
    "setup(\n",
    "        cmdclass = {'build_ext': build_ext},\n",
    "        ext_modules = cythonize(extension),\n",
    ")\n"
   ]
  },
  {
   "cell_type": "code",
   "execution_count": 9,
   "metadata": {},
   "outputs": [
    {
     "name": "stdout",
     "output_type": "stream",
     "text": [
      "Compiling convolve1.pyx because it changed.\n",
      "[1/1] Cythonizing convolve1.pyx\n",
      "running build_ext\n",
      "building 'convolve1' extension\n",
      "creating build\n",
      "creating build/temp.macosx-10.7-x86_64-3.6\n",
      "gcc -Wno-unused-result -Wsign-compare -Wunreachable-code -DNDEBUG -g -fwrapv -O3 -Wall -Wstrict-prototypes -I/Users/huangsizhe/LIB/CONDA/anaconda/include -arch x86_64 -I/Users/huangsizhe/LIB/CONDA/anaconda/include -arch x86_64 -I/Users/huangsizhe/LIB/CONDA/anaconda/lib/python3.6/site-packages/numpy/core/include -I/Users/huangsizhe/LIB/CONDA/anaconda/include/python3.6m -c convolve1.cpp -o build/temp.macosx-10.7-x86_64-3.6/convolve1.o\n",
      "g++ -bundle -undefined dynamic_lookup -L/Users/huangsizhe/LIB/CONDA/anaconda/lib -L/Users/huangsizhe/LIB/CONDA/anaconda/lib -arch x86_64 build/temp.macosx-10.7-x86_64-3.6/convolve1.o -L/Users/huangsizhe/LIB/CONDA/anaconda/lib -o /Users/huangsizhe/WORKSPACE/Blog/Docs/Python/TutorialForPythonDataAnalysis/ipynbs/numpy/convolve1.cpython-36m-darwin.so\n",
      "clang: \u001b[0;1;35mwarning: \u001b[0mlibstdc++ is deprecated; move to libc++ with a minimum deployment target of OS X 10.9\u001b[0m\n"
     ]
    }
   ],
   "source": [
    "!python setup.py build_ext --inplace"
   ]
  },
  {
   "cell_type": "code",
   "execution_count": 10,
   "metadata": {
    "collapsed": true
   },
   "outputs": [],
   "source": [
    "from convolve1 import naive_convolve_1"
   ]
  },
  {
   "cell_type": "code",
   "execution_count": 11,
   "metadata": {},
   "outputs": [
    {
     "data": {
      "text/plain": [
       "array([[      0,       0,       1, ...,    2056,    1477,     792],\n",
       "       [      0,     109,     329, ...,    8858,    6227,    3275],\n",
       "       [    900,    2127,    3684, ...,   23106,   16050,    8349],\n",
       "       ..., \n",
       "       [1850400, 3730389, 5639970, ..., 6230334, 4183464, 2106687],\n",
       "       [1329300, 2678435, 4047407, ..., 4445402, 2983649, 1501849],\n",
       "       [ 712800, 1435572, 2168317, ..., 2369524, 1589761,  799920]])"
      ]
     },
     "execution_count": 11,
     "metadata": {},
     "output_type": "execute_result"
    }
   ],
   "source": [
    "naive_convolve_1(f,g)"
   ]
  },
  {
   "cell_type": "code",
   "execution_count": 12,
   "metadata": {},
   "outputs": [
    {
     "name": "stdout",
     "output_type": "stream",
     "text": [
      "594 ms ± 14.2 ms per loop (mean ± std. dev. of 7 runs, 10 loops each)\n"
     ]
    }
   ],
   "source": [
    "%timeit -n10 naive_convolve_1(f,g)"
   ]
  },
  {
   "cell_type": "markdown",
   "metadata": {},
   "source": [
    "第一版什么也不改就可以提高1/4的性能"
   ]
  },
  {
   "cell_type": "markdown",
   "metadata": {},
   "source": [
    "## 第二版迭代--静态化参数\n",
    "\n",
    "将函数的参数以及中间变量都申明为静态类型以提高运行效率"
   ]
  },
  {
   "cell_type": "code",
   "execution_count": 14,
   "metadata": {},
   "outputs": [
    {
     "name": "stdout",
     "output_type": "stream",
     "text": [
      "Writing convolve2.pyx\n"
     ]
    }
   ],
   "source": [
    "%%writefile convolve2.pyx\n",
    "import numpy as np##必须为c类型和python类型的数据都申明一个np\n",
    "\n",
    "cimport numpy as np\n",
    "\n",
    "DTYPE = np.int\n",
    "\n",
    "ctypedef np.int_t DTYPE_t\n",
    "\n",
    "# 参数静态化\n",
    "def naive_convolve_2(np.ndarray f, np.ndarray g):\n",
    "    if g.shape[0] % 2 != 1 or g.shape[1] % 2 != 1:\n",
    "        raise ValueError(\"Only odd dimensions on filter supported\")\n",
    "    assert f.dtype == DTYPE and g.dtype == DTYPE\n",
    "    \n",
    "    #将中间变量都静态化\n",
    "    cdef int vmax = f.shape[0]\n",
    "    cdef int wmax = f.shape[1]\n",
    "    cdef int smax = g.shape[0]\n",
    "    cdef int tmax = g.shape[1]\n",
    "    cdef int smid = smax // 2\n",
    "    cdef int tmid = tmax // 2\n",
    "    cdef int xmax = vmax + 2*smid\n",
    "    cdef int ymax = wmax + 2*tmid\n",
    "    cdef np.ndarray h = np.zeros([xmax, ymax], dtype=DTYPE)\n",
    "    cdef int x, y, s, t, v, w\n",
    "    cdef int s_from, s_to, t_from, t_to\n",
    "    cdef DTYPE_t value\n",
    "    \n",
    "    for x in range(xmax):\n",
    "        for y in range(ymax):\n",
    "            s_from = max(smid - x, -smid)\n",
    "            s_to = min((xmax - x) - smid, smid + 1)\n",
    "            t_from = max(tmid - y, -tmid)\n",
    "            t_to = min((ymax - y) - tmid, tmid + 1)\n",
    "            value = 0\n",
    "            for s in range(s_from, s_to):\n",
    "                for t in range(t_from, t_to):\n",
    "                    v = x - smid + s\n",
    "                    w = y - tmid + t\n",
    "                    value += g[smid - s, tmid - t] * f[v, w]\n",
    "            h[x, y] = value\n",
    "    return h"
   ]
  },
  {
   "cell_type": "code",
   "execution_count": 15,
   "metadata": {},
   "outputs": [
    {
     "name": "stdout",
     "output_type": "stream",
     "text": [
      "Overwriting setup.py\n"
     ]
    }
   ],
   "source": [
    "%%writefile setup.py\n",
    "\n",
    "from distutils.core import setup\n",
    "from Cython.Build import cythonize\n",
    "from distutils.extension import Extension\n",
    "from Cython.Distutils import build_ext\n",
    "import numpy\n",
    "\n",
    "extension = Extension(\n",
    "           \"convolve2\",\n",
    "           sources=[\"convolve2.pyx\"],\n",
    "           include_dirs=[numpy.get_include()], # 如果用到numpy\n",
    "           language=\"c++\"\n",
    ")\n",
    "\n",
    "setup(\n",
    "        cmdclass = {'build_ext': build_ext},\n",
    "        ext_modules = cythonize(extension),\n",
    ")\n"
   ]
  },
  {
   "cell_type": "code",
   "execution_count": 16,
   "metadata": {},
   "outputs": [
    {
     "name": "stdout",
     "output_type": "stream",
     "text": [
      "Compiling convolve2.pyx because it changed.\n",
      "[1/1] Cythonizing convolve2.pyx\n",
      "running build_ext\n",
      "building 'convolve2' extension\n",
      "gcc -Wno-unused-result -Wsign-compare -Wunreachable-code -DNDEBUG -g -fwrapv -O3 -Wall -Wstrict-prototypes -I/Users/huangsizhe/LIB/CONDA/anaconda/include -arch x86_64 -I/Users/huangsizhe/LIB/CONDA/anaconda/include -arch x86_64 -I/Users/huangsizhe/LIB/CONDA/anaconda/lib/python3.6/site-packages/numpy/core/include -I/Users/huangsizhe/LIB/CONDA/anaconda/include/python3.6m -c convolve2.cpp -o build/temp.macosx-10.7-x86_64-3.6/convolve2.o\n",
      "In file included from convolve2.cpp:465:\n",
      "In file included from /Users/huangsizhe/LIB/CONDA/anaconda/lib/python3.6/site-packages/numpy/core/include/numpy/arrayobject.h:4:\n",
      "In file included from /Users/huangsizhe/LIB/CONDA/anaconda/lib/python3.6/site-packages/numpy/core/include/numpy/ndarrayobject.h:18:\n",
      "In file included from /Users/huangsizhe/LIB/CONDA/anaconda/lib/python3.6/site-packages/numpy/core/include/numpy/ndarraytypes.h:1777:\n",
      "\u001b[1m/Users/huangsizhe/LIB/CONDA/anaconda/lib/python3.6/site-packages/numpy/core/include/numpy/npy_1_7_deprecated_api.h:15:2: \u001b[0m\u001b[0;1;35mwarning: \u001b[0m\u001b[1m\n",
      "      \"Using deprecated NumPy API, disable it by \"          \"#defining\n",
      "      NPY_NO_DEPRECATED_API NPY_1_7_API_VERSION\" [-W#warnings]\u001b[0m\n",
      "#warning \"Using deprecated NumPy API, disable it by \" \\\n",
      "\u001b[0;1;32m ^\n",
      "\u001b[0m1 warning generated.\n",
      "g++ -bundle -undefined dynamic_lookup -L/Users/huangsizhe/LIB/CONDA/anaconda/lib -L/Users/huangsizhe/LIB/CONDA/anaconda/lib -arch x86_64 build/temp.macosx-10.7-x86_64-3.6/convolve2.o -L/Users/huangsizhe/LIB/CONDA/anaconda/lib -o /Users/huangsizhe/WORKSPACE/Blog/Docs/Python/TutorialForPythonDataAnalysis/ipynbs/numpy/convolve2.cpython-36m-darwin.so\n",
      "clang: \u001b[0;1;35mwarning: \u001b[0mlibstdc++ is deprecated; move to libc++ with a minimum deployment target of OS X 10.9\u001b[0m\n"
     ]
    }
   ],
   "source": [
    "!python setup.py build_ext --inplace"
   ]
  },
  {
   "cell_type": "code",
   "execution_count": 17,
   "metadata": {
    "collapsed": true
   },
   "outputs": [],
   "source": [
    "from convolve2 import naive_convolve_2"
   ]
  },
  {
   "cell_type": "code",
   "execution_count": 18,
   "metadata": {},
   "outputs": [
    {
     "data": {
      "text/plain": [
       "array([[      0,       0,       1, ...,    2056,    1477,     792],\n",
       "       [      0,     109,     329, ...,    8858,    6227,    3275],\n",
       "       [    900,    2127,    3684, ...,   23106,   16050,    8349],\n",
       "       ..., \n",
       "       [1850400, 3730389, 5639970, ..., 6230334, 4183464, 2106687],\n",
       "       [1329300, 2678435, 4047407, ..., 4445402, 2983649, 1501849],\n",
       "       [ 712800, 1435572, 2168317, ..., 2369524, 1589761,  799920]])"
      ]
     },
     "execution_count": 18,
     "metadata": {},
     "output_type": "execute_result"
    }
   ],
   "source": [
    "naive_convolve_2(f,g)"
   ]
  },
  {
   "cell_type": "code",
   "execution_count": 20,
   "metadata": {},
   "outputs": [
    {
     "name": "stdout",
     "output_type": "stream",
     "text": [
      "593 ms ± 16.1 ms per loop (mean ± std. dev. of 7 runs, 10 loops each)\n"
     ]
    }
   ],
   "source": [
    "%timeit -n10 naive_convolve_2(f,g)"
   ]
  },
  {
   "cell_type": "markdown",
   "metadata": {},
   "source": [
    "## 第三版迭代--“缓冲”语法\n",
    "\n",
    "提高np数组的效率,我们用一个特殊的“缓冲”语法来做到这一点，它必须告诉数据类型（第一个参数）和维数（“ndim”仅关键字参数，如果不提供，则假定一维"
   ]
  },
  {
   "cell_type": "code",
   "execution_count": 42,
   "metadata": {},
   "outputs": [
    {
     "name": "stdout",
     "output_type": "stream",
     "text": [
      "Overwriting convolve3.pyx\n"
     ]
    }
   ],
   "source": [
    "%%writefile convolve3.pyx\n",
    "import numpy as np##必须为c类型和python类型的数据都申明一个np\n",
    "\n",
    "cimport numpy as np\n",
    "\n",
    "DTYPE = np.int\n",
    "\n",
    "ctypedef np.int_t DTYPE_t\n",
    "# “缓冲”语法\n",
    "def naive_convolve_3(np.ndarray[DTYPE_t, ndim=2] f, np.ndarray[DTYPE_t, ndim=2] g):\n",
    "    if g.shape[0] % 2 != 1 or g.shape[1] % 2 != 1:\n",
    "        raise ValueError(\"Only odd dimensions on filter supported\")\n",
    "    assert f.dtype == DTYPE and g.dtype == DTYPE\n",
    "   \n",
    "    cdef int vmax = f.shape[0]\n",
    "    cdef int wmax = f.shape[1]\n",
    "    cdef int smax = g.shape[0]\n",
    "    cdef int tmax = g.shape[1]\n",
    "    cdef int smid = smax // 2\n",
    "    cdef int tmid = tmax // 2\n",
    "    cdef int xmax = vmax + 2*smid\n",
    "    cdef int ymax = wmax + 2*tmid\n",
    "    # “缓冲”语法\n",
    "    cdef np.ndarray[DTYPE_t, ndim=2] h = np.zeros([xmax, ymax], dtype=DTYPE)\n",
    "    \n",
    "    cdef int x, y, s, t, v, w\n",
    "\n",
    "    cdef int s_from, s_to, t_from, t_to\n",
    " \n",
    "    cdef DTYPE_t value\n",
    "    for x in range(xmax):\n",
    "        for y in range(ymax):\n",
    "            s_from = max(smid - x, -smid)\n",
    "            s_to = min((xmax - x) - smid, smid + 1)\n",
    "            t_from = max(tmid - y, -tmid)\n",
    "            t_to = min((ymax - y) - tmid, tmid + 1)\n",
    "            value = 0\n",
    "            for s in range(s_from, s_to):\n",
    "                for t in range(t_from, t_to):\n",
    "                    v = x - smid + s\n",
    "                    w = y - tmid + t\n",
    "                    value += g[smid - s, tmid - t] * f[v, w]\n",
    "            h[x, y] = value\n",
    "    return h"
   ]
  },
  {
   "cell_type": "code",
   "execution_count": 43,
   "metadata": {},
   "outputs": [
    {
     "name": "stdout",
     "output_type": "stream",
     "text": [
      "Overwriting setup.py\n"
     ]
    }
   ],
   "source": [
    "%%writefile setup.py\n",
    "\n",
    "from distutils.core import setup\n",
    "from Cython.Build import cythonize\n",
    "from distutils.extension import Extension\n",
    "from Cython.Distutils import build_ext\n",
    "import numpy\n",
    "\n",
    "extension = Extension(\n",
    "           \"convolve3\",\n",
    "           sources=[\"convolve3.pyx\"],\n",
    "           include_dirs=[numpy.get_include()], # 如果用到numpy\n",
    "           language=\"c++\"\n",
    ")\n",
    "\n",
    "setup(\n",
    "        cmdclass = {'build_ext': build_ext},\n",
    "        ext_modules = cythonize(extension),\n",
    ")\n"
   ]
  },
  {
   "cell_type": "code",
   "execution_count": 44,
   "metadata": {},
   "outputs": [
    {
     "name": "stdout",
     "output_type": "stream",
     "text": [
      "Compiling convolve3.pyx because it changed.\n",
      "[1/1] Cythonizing convolve3.pyx\n",
      "running build_ext\n",
      "building 'convolve3' extension\n",
      "gcc -Wno-unused-result -Wsign-compare -Wunreachable-code -DNDEBUG -g -fwrapv -O3 -Wall -Wstrict-prototypes -I/Users/huangsizhe/LIB/CONDA/anaconda/include -arch x86_64 -I/Users/huangsizhe/LIB/CONDA/anaconda/include -arch x86_64 -I/Users/huangsizhe/LIB/CONDA/anaconda/lib/python3.6/site-packages/numpy/core/include -I/Users/huangsizhe/LIB/CONDA/anaconda/include/python3.6m -c convolve3.cpp -o build/temp.macosx-10.7-x86_64-3.6/convolve3.o\n",
      "In file included from convolve3.cpp:465:\n",
      "In file included from /Users/huangsizhe/LIB/CONDA/anaconda/lib/python3.6/site-packages/numpy/core/include/numpy/arrayobject.h:4:\n",
      "In file included from /Users/huangsizhe/LIB/CONDA/anaconda/lib/python3.6/site-packages/numpy/core/include/numpy/ndarrayobject.h:18:\n",
      "In file included from /Users/huangsizhe/LIB/CONDA/anaconda/lib/python3.6/site-packages/numpy/core/include/numpy/ndarraytypes.h:1777:\n",
      "\u001b[1m/Users/huangsizhe/LIB/CONDA/anaconda/lib/python3.6/site-packages/numpy/core/include/numpy/npy_1_7_deprecated_api.h:15:2: \u001b[0m\u001b[0;1;35mwarning: \u001b[0m\u001b[1m\n",
      "      \"Using deprecated NumPy API, disable it by \"          \"#defining\n",
      "      NPY_NO_DEPRECATED_API NPY_1_7_API_VERSION\" [-W#warnings]\u001b[0m\n",
      "#warning \"Using deprecated NumPy API, disable it by \" \\\n",
      "\u001b[0;1;32m ^\n",
      "\u001b[0m1 warning generated.\n",
      "g++ -bundle -undefined dynamic_lookup -L/Users/huangsizhe/LIB/CONDA/anaconda/lib -L/Users/huangsizhe/LIB/CONDA/anaconda/lib -arch x86_64 build/temp.macosx-10.7-x86_64-3.6/convolve3.o -L/Users/huangsizhe/LIB/CONDA/anaconda/lib -o /Users/huangsizhe/WORKSPACE/Blog/Docs/Python/TutorialForPythonDataAnalysis/ipynbs/numpy/convolve3.cpython-36m-darwin.so\n",
      "clang: \u001b[0;1;35mwarning: \u001b[0mlibstdc++ is deprecated; move to libc++ with a minimum deployment target of OS X 10.9\u001b[0m\n"
     ]
    }
   ],
   "source": [
    "!python setup.py build_ext --inplace"
   ]
  },
  {
   "cell_type": "code",
   "execution_count": 45,
   "metadata": {
    "collapsed": true
   },
   "outputs": [],
   "source": [
    "from convolve3 import naive_convolve_3"
   ]
  },
  {
   "cell_type": "code",
   "execution_count": 46,
   "metadata": {},
   "outputs": [
    {
     "data": {
      "text/plain": [
       "array([[      0,       0,       1, ...,    2056,    1477,     792],\n",
       "       [      0,     109,     329, ...,    8858,    6227,    3275],\n",
       "       [    900,    2127,    3684, ...,   23106,   16050,    8349],\n",
       "       ..., \n",
       "       [1850400, 3730389, 5639970, ..., 6230334, 4183464, 2106687],\n",
       "       [1329300, 2678435, 4047407, ..., 4445402, 2983649, 1501849],\n",
       "       [ 712800, 1435572, 2168317, ..., 2369524, 1589761,  799920]])"
      ]
     },
     "execution_count": 46,
     "metadata": {},
     "output_type": "execute_result"
    }
   ],
   "source": [
    "naive_convolve_3(f,g)"
   ]
  },
  {
   "cell_type": "code",
   "execution_count": 47,
   "metadata": {},
   "outputs": [
    {
     "name": "stdout",
     "output_type": "stream",
     "text": [
      "3.23 ms ± 452 µs per loop (mean ± std. dev. of 7 runs, 10 loops each)\n"
     ]
    }
   ],
   "source": [
    "%timeit -n10 naive_convolve_3(f,g)"
   ]
  },
  {
   "cell_type": "markdown",
   "metadata": {},
   "source": [
    "提高了150倍的性能"
   ]
  },
  {
   "cell_type": "markdown",
   "metadata": {},
   "source": [
    "## 第四版迭代--调整cython设置进一步的提高数组效率\n"
   ]
  },
  {
   "cell_type": "code",
   "execution_count": 36,
   "metadata": {},
   "outputs": [
    {
     "name": "stdout",
     "output_type": "stream",
     "text": [
      "Overwriting convolve4.pyx\n"
     ]
    }
   ],
   "source": [
    "%%writefile convolve4.pyx\n",
    "import numpy as np##必须为c类型和python类型的数据都申明一个np\n",
    "\n",
    "cimport numpy as np\n",
    "\n",
    "DTYPE = np.int\n",
    "\n",
    "ctypedef np.int_t DTYPE_t\n",
    "\n",
    "cimport cython\n",
    "@cython.boundscheck(False) # 关闭边界检查\n",
    "@cython.wraparound(False)  # 关闭负指数换行\n",
    "def naive_convolve_4(np.ndarray[DTYPE_t, ndim=2] f, np.ndarray[DTYPE_t, ndim=2] g):\n",
    "    if g.shape[0] % 2 != 1 or g.shape[1] % 2 != 1:\n",
    "        raise ValueError(\"Only odd dimensions on filter supported\")\n",
    "    assert f.dtype == DTYPE and g.dtype == DTYPE\n",
    "    \n",
    "    cdef int vmax = f.shape[0]\n",
    "    cdef int wmax = f.shape[1]\n",
    "    cdef int smax = g.shape[0]\n",
    "    cdef int tmax = g.shape[1]\n",
    "    cdef int smid = smax // 2\n",
    "    cdef int tmid = tmax // 2\n",
    "    cdef int xmax = vmax + 2*smid\n",
    "    cdef int ymax = wmax + 2*tmid\n",
    "    # “缓冲”语法\n",
    "    cdef np.ndarray[DTYPE_t, ndim=2] h = np.zeros([xmax, ymax], dtype=DTYPE)\n",
    "    cdef int s, t\n",
    "    cdef unsigned int x, y, v, w \n",
    "   \n",
    "    cdef int s_from, s_to, t_from, t_to\n",
    "   \n",
    "    cdef DTYPE_t value\n",
    "    for x in range(xmax):\n",
    "        for y in range(ymax):\n",
    "            s_from = max(smid - x, -smid)\n",
    "            s_to = min((xmax - x) - smid, smid + 1)\n",
    "            t_from = max(tmid - y, -tmid)\n",
    "            t_to = min((ymax - y) - tmid, tmid + 1)\n",
    "            value = 0\n",
    "            for s in range(s_from, s_to):\n",
    "                for t in range(t_from, t_to):\n",
    "                    v = <unsigned int>(x - smid + s)#指定类型\n",
    "                    w = <unsigned int>(y - tmid + t)#指定类型\n",
    "                    value += g[<unsigned int>(smid - s), <unsigned int>(tmid - t)] * f[v, w]#指定类型\n",
    "            h[x, y] = value\n",
    "    return h"
   ]
  },
  {
   "cell_type": "code",
   "execution_count": 37,
   "metadata": {},
   "outputs": [
    {
     "name": "stdout",
     "output_type": "stream",
     "text": [
      "Overwriting setup.py\n"
     ]
    }
   ],
   "source": [
    "%%writefile setup.py\n",
    "\n",
    "from distutils.core import setup\n",
    "from Cython.Build import cythonize\n",
    "from distutils.extension import Extension\n",
    "from Cython.Distutils import build_ext\n",
    "import numpy\n",
    "\n",
    "extension = Extension(\n",
    "           \"convolve4\",\n",
    "           sources=[\"convolve4.pyx\"],\n",
    "           include_dirs=[numpy.get_include()], # 如果用到numpy\n",
    "           language=\"c++\"\n",
    ")\n",
    "\n",
    "setup(\n",
    "        cmdclass = {'build_ext': build_ext},\n",
    "        ext_modules = cythonize(extension),\n",
    ")\n"
   ]
  },
  {
   "cell_type": "code",
   "execution_count": 38,
   "metadata": {},
   "outputs": [
    {
     "name": "stdout",
     "output_type": "stream",
     "text": [
      "Compiling convolve4.pyx because it changed.\n",
      "[1/1] Cythonizing convolve4.pyx\n",
      "running build_ext\n",
      "building 'convolve4' extension\n",
      "gcc -Wno-unused-result -Wsign-compare -Wunreachable-code -DNDEBUG -g -fwrapv -O3 -Wall -Wstrict-prototypes -I/Users/huangsizhe/LIB/CONDA/anaconda/include -arch x86_64 -I/Users/huangsizhe/LIB/CONDA/anaconda/include -arch x86_64 -I/Users/huangsizhe/LIB/CONDA/anaconda/lib/python3.6/site-packages/numpy/core/include -I/Users/huangsizhe/LIB/CONDA/anaconda/include/python3.6m -c convolve4.cpp -o build/temp.macosx-10.7-x86_64-3.6/convolve4.o\n",
      "In file included from convolve4.cpp:465:\n",
      "In file included from /Users/huangsizhe/LIB/CONDA/anaconda/lib/python3.6/site-packages/numpy/core/include/numpy/arrayobject.h:4:\n",
      "In file included from /Users/huangsizhe/LIB/CONDA/anaconda/lib/python3.6/site-packages/numpy/core/include/numpy/ndarrayobject.h:18:\n",
      "In file included from /Users/huangsizhe/LIB/CONDA/anaconda/lib/python3.6/site-packages/numpy/core/include/numpy/ndarraytypes.h:1777:\n",
      "\u001b[1m/Users/huangsizhe/LIB/CONDA/anaconda/lib/python3.6/site-packages/numpy/core/include/numpy/npy_1_7_deprecated_api.h:15:2: \u001b[0m\u001b[0;1;35mwarning: \u001b[0m\u001b[1m\n",
      "      \"Using deprecated NumPy API, disable it by \"          \"#defining\n",
      "      NPY_NO_DEPRECATED_API NPY_1_7_API_VERSION\" [-W#warnings]\u001b[0m\n",
      "#warning \"Using deprecated NumPy API, disable it by \" \\\n",
      "\u001b[0;1;32m ^\n",
      "\u001b[0m\u001b[1mconvolve4.cpp:1901:33: \u001b[0m\u001b[0;1;35mwarning: \u001b[0m\u001b[1mcomparison of integers of different signs:\n",
      "      'unsigned int' and 'int' [-Wsign-compare]\u001b[0m\n",
      "  for (__pyx_t_9 = 0; __pyx_t_9 < __pyx_t_8; __pyx_t_9+=1) {\n",
      "\u001b[0;1;32m                      ~~~~~~~~~ ^ ~~~~~~~~~\n",
      "\u001b[0m\u001b[1mconvolve4.cpp:1912:37: \u001b[0m\u001b[0;1;35mwarning: \u001b[0m\u001b[1mcomparison of integers of different signs:\n",
      "      'unsigned int' and 'int' [-Wsign-compare]\u001b[0m\n",
      "    for (__pyx_t_11 = 0; __pyx_t_11 < __pyx_t_10; __pyx_t_11+=1) {\n",
      "\u001b[0;1;32m                         ~~~~~~~~~~ ^ ~~~~~~~~~~\n",
      "\u001b[0m\u001b[1mconvolve4.cpp:1924:24: \u001b[0m\u001b[0;1;35mwarning: \u001b[0m\u001b[1mcomparison of integers of different signs: 'int'\n",
      "      and 'unsigned int' [-Wsign-compare]\u001b[0m\n",
      "      if (((__pyx_t_12 > __pyx_t_13) != 0)) {\n",
      "\u001b[0;1;32m            ~~~~~~~~~~ ^ ~~~~~~~~~~\n",
      "\u001b[0m\u001b[1mconvolve4.cpp:1956:24: \u001b[0m\u001b[0;1;35mwarning: \u001b[0m\u001b[1mcomparison of integers of different signs: 'int'\n",
      "      and 'unsigned int' [-Wsign-compare]\u001b[0m\n",
      "      if (((__pyx_t_12 > __pyx_t_14) != 0)) {\n",
      "\u001b[0;1;32m            ~~~~~~~~~~ ^ ~~~~~~~~~~\n",
      "\u001b[0m5 warnings generated.\n",
      "g++ -bundle -undefined dynamic_lookup -L/Users/huangsizhe/LIB/CONDA/anaconda/lib -L/Users/huangsizhe/LIB/CONDA/anaconda/lib -arch x86_64 build/temp.macosx-10.7-x86_64-3.6/convolve4.o -L/Users/huangsizhe/LIB/CONDA/anaconda/lib -o /Users/huangsizhe/WORKSPACE/Blog/Docs/Python/TutorialForPythonDataAnalysis/ipynbs/numpy/convolve4.cpython-36m-darwin.so\n",
      "clang: \u001b[0;1;35mwarning: \u001b[0mlibstdc++ is deprecated; move to libc++ with a minimum deployment target of OS X 10.9\u001b[0m\n"
     ]
    }
   ],
   "source": [
    "!python setup.py build_ext --inplace"
   ]
  },
  {
   "cell_type": "code",
   "execution_count": 39,
   "metadata": {
    "collapsed": true
   },
   "outputs": [],
   "source": [
    "from convolve4 import naive_convolve_4"
   ]
  },
  {
   "cell_type": "code",
   "execution_count": 40,
   "metadata": {},
   "outputs": [
    {
     "data": {
      "text/plain": [
       "array([[      0,       0,       1, ...,    2056,    1477,     792],\n",
       "       [      0,     109,     329, ...,    8858,    6227,    3275],\n",
       "       [    900,    2127,    3684, ...,   23106,   16050,    8349],\n",
       "       ..., \n",
       "       [1850400, 3730389, 5639970, ..., 6230334, 4183464, 2106687],\n",
       "       [1329300, 2678435, 4047407, ..., 4445402, 2983649, 1501849],\n",
       "       [ 712800, 1435572, 2168317, ..., 2369524, 1589761,  799920]])"
      ]
     },
     "execution_count": 40,
     "metadata": {},
     "output_type": "execute_result"
    }
   ],
   "source": [
    "naive_convolve_4(f,g)"
   ]
  },
  {
   "cell_type": "code",
   "execution_count": 48,
   "metadata": {},
   "outputs": [
    {
     "name": "stdout",
     "output_type": "stream",
     "text": [
      "1.83 ms ± 275 µs per loop (mean ± std. dev. of 7 runs, 10 loops each)\n"
     ]
    }
   ],
   "source": [
    "%timeit -n10 naive_convolve_4(f,g)"
   ]
  },
  {
   "cell_type": "markdown",
   "metadata": {},
   "source": [
    "又提高了将近1倍的速度\n",
    "\n",
    "从最原始的版本到最终的版本我们的的代码效率对比786ms/1.83ms,几乎是400倍的效率提高"
   ]
  }
 ],
 "metadata": {
  "kernelspec": {
   "display_name": "Python 3",
   "language": "python",
   "name": "python3"
  },
  "language_info": {
   "codemirror_mode": {
    "name": "ipython",
    "version": 3
   },
   "file_extension": ".py",
   "mimetype": "text/x-python",
   "name": "python",
   "nbconvert_exporter": "python",
   "pygments_lexer": "ipython3",
   "version": "3.6.0"
  }
 },
 "nbformat": 4,
 "nbformat_minor": 2
}
