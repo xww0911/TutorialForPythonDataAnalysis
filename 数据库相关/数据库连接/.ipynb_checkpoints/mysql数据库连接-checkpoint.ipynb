{
 "cells": [
  {
   "cell_type": "markdown",
   "metadata": {},
   "source": [
    "# mysql数据库连接\n",
    "\n",
    "其实Python对所有数据库都给出了相似的接口,mysql也满足这个接口.他的操作和sqlite3是差不多的"
   ]
  },
  {
   "cell_type": "markdown",
   "metadata": {},
   "source": [
    "## 安装\n",
    "\n",
    "    pip install mysql-connector-python --allow-external mysql-connector-python"
   ]
  },
  {
   "cell_type": "markdown",
   "metadata": {},
   "source": [
    "## 打开mysql"
   ]
  },
  {
   "cell_type": "code",
   "execution_count": 3,
   "metadata": {
    "collapsed": false
   },
   "outputs": [
    {
     "name": "stdout",
     "output_type": "stream",
     "text": [
      "Starting MySQL\r\n",
      " SUCCESS! \r\n"
     ]
    }
   ],
   "source": [
    "!mysql.server start"
   ]
  },
  {
   "cell_type": "markdown",
   "metadata": {},
   "source": [
    "## 连接数据库"
   ]
  },
  {
   "cell_type": "code",
   "execution_count": 4,
   "metadata": {
    "collapsed": true
   },
   "outputs": [],
   "source": [
    "import mysql.connector \n",
    "conn = mysql.connector.connect(host =\"localhost\",user=\"root\",\n",
    "                                       password=\"hsz881224\", database=\"test01\",buffered=True) "
   ]
  },
  {
   "cell_type": "markdown",
   "metadata": {},
   "source": [
    "注意buffered表示游标可动,不加这个基本操作不了数据库"
   ]
  },
  {
   "cell_type": "markdown",
   "metadata": {},
   "source": [
    "## 使用SQL语句\n",
    "\n",
    "    sql=xxxx\n",
    "    c = conn.cursor()\n",
    "    c.execute(sql)\n",
    "    conn.commit()"
   ]
  },
  {
   "cell_type": "markdown",
   "metadata": {},
   "source": [
    "### 获取返回"
   ]
  },
  {
   "cell_type": "markdown",
   "metadata": {},
   "source": [
    "    s = conn.cursor()\n",
    "    s.execute('SELECT * FROM people')\n",
    "    s.fetchall()"
   ]
  },
  {
   "cell_type": "markdown",
   "metadata": {},
   "source": [
    "获取的是一个由元组组成的列表"
   ]
  }
 ],
 "metadata": {
  "kernelspec": {
   "display_name": "Python 3",
   "language": "python",
   "name": "python3"
  },
  "language_info": {
   "codemirror_mode": {
    "name": "ipython",
    "version": 3
   },
   "file_extension": ".py",
   "mimetype": "text/x-python",
   "name": "python",
   "nbconvert_exporter": "python",
   "pygments_lexer": "ipython3",
   "version": "3.5.1"
  }
 },
 "nbformat": 4,
 "nbformat_minor": 0
}
