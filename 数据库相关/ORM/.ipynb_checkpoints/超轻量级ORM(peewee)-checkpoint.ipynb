{
 "cells": [
  {
   "cell_type": "markdown",
   "metadata": {},
   "source": [
    "[peewee](http://docs.peewee-orm.com/en/latest/)是python的超轻量级ORM,它对数据库io效率的影响比较小,而且关键的接口干净,非常适合和falcon结合写RESTFUL服务\n",
    "\n",
    "安装:\n",
    "\n",
    "pip install peewee"
   ]
  },
  {
   "cell_type": "markdown",
   "metadata": {},
   "source": [
    "# 数据库连接\n",
    "\n",
    "peewee支持主流的mysql,sqlite3,和postgresql基本功能,并且可以通过插件支持postgresql的全新json特性,也支持shema迁移等特性.\n",
    "\n",
    "以sqlite为例:"
   ]
  },
  {
   "cell_type": "code",
   "execution_count": 2,
   "metadata": {
    "collapsed": true
   },
   "outputs": [],
   "source": [
    "from peewee import SqliteDatabase"
   ]
  },
  {
   "cell_type": "code",
   "execution_count": 3,
   "metadata": {
    "collapsed": false
   },
   "outputs": [],
   "source": [
    "db = SqliteDatabase('people.db')"
   ]
  },
  {
   "cell_type": "markdown",
   "metadata": {},
   "source": [
    "# 基本功能:\n",
    "\n",
    "创建映射类:\n",
    "\n",
    "映射类必须继承自Model或者它的子类,各个字段的定义也是直观的`XxxField()`的样式,定义的字段类型有:\n",
    "\n",
    "Field Type\t|Sqlite|\tPostgresql|\tMySQL\n",
    "---|---|---|---\n",
    "CharField\t|varchar\t|varchar|\tvarchar\n",
    "FixedCharField\t|char\t|char|\tchar\n",
    "TextField\t|text|\ttext\t|longtext\n",
    "DateTimeField|\tdatetime\t|timestamp|\tdatetime\n",
    "IntegerField\t|integer|\tinteger\t|integer\n",
    "BooleanField\t|integer|\tboolean|\tbool\n",
    "FloatField|\treal\t|real\t|real\n",
    "DoubleField\t|real\t|double precision|\tdouble precision\n",
    "BigIntegerField\t|integer|\tbigint|\tbigint\n",
    "SmallIntegerField\t|integer\t|smallint\t|smallint\n",
    "DecimalField\t|decimal|\tnumeric|\tnumeric\n",
    "PrimaryKeyField\t|integer|\tserial|\tinteger\n",
    "ForeignKeyField\t|integer|\tinteger|\tinteger\n",
    "DateField\t|date|\tdate\t|date\n",
    "TimeField\t|time\t|time\t|time\n",
    "BlobField\t|blob\t|bytea\t|blob\n",
    "UUIDField\t|text\t|uuid\t|varchar(40)\n",
    "BareField\t|untyped\t|not supported|\tnot supported\n",
    "\n",
    "里面可以选择是否加入参数说明\n",
    "\n",
    "通用的参数有:\n",
    "\n",
    "参数|取值|默认值|说明\n",
    "---|---|---\n",
    "null | 布尔值|False|是否可以为空\n",
    "index |布尔值|False|是否创建索引\n",
    "unique |布尔值| False|是否唯一 \n",
    "verbose_name |str|None|别名 \n",
    "help_text | str|None |帮助文档\n",
    "db_column|str| None | 数据库中的名字\n",
    "default|object|None|默认值 \n",
    "choices|tuple|None|可选值\n",
    "primary_key|布尔值|False|主键 \n",
    "sequence|---|None|序列,但必须要数据库本身支持\n",
    "constraints|---|None|限制,例子:[Check('price > 0')]\n",
    "schema |---| None |可选的schema名字,但必须要数据库本身支持\n",
    "\n",
    "特殊参数:\n",
    "\n",
    "Field type\t|Special Parameters\n",
    "---|---\n",
    "CharField|\tmax_length\n",
    "FixedCharField\t|max_length\n",
    "DateTimeField\t|formats\n",
    "DateField\t|formats\n",
    "TimeField\t|formats\n",
    "DecimalField\t|max_digits, decimal_places, auto_round, rounding\n",
    "ForeignKeyField\t|rel_model, related_name, to_field, on_delete, on_update, extra\n",
    "BareField\t|coerce\n"
   ]
  },
  {
   "cell_type": "code",
   "execution_count": 8,
   "metadata": {
    "collapsed": true
   },
   "outputs": [],
   "source": [
    "from peewee import Model,CharField,DateField,BooleanField,ForeignKeyField"
   ]
  },
  {
   "cell_type": "code",
   "execution_count": 6,
   "metadata": {
    "collapsed": false
   },
   "outputs": [],
   "source": [
    "class Person(Model):\n",
    "    name = CharField()\n",
    "    birthday = DateField()\n",
    "    is_relative = BooleanField()\n",
    "\n",
    "    class Meta:\n",
    "        database = db # 确定使用的是哪个db,方便多种数据库配合使用"
   ]
  },
  {
   "cell_type": "code",
   "execution_count": 9,
   "metadata": {
    "collapsed": false
   },
   "outputs": [],
   "source": [
    "class Pet(Model):\n",
    "    owner = ForeignKeyField(Person, related_name='pets')# 定义外键,虽然不建议使用外键,但有的时候还有有必要的\n",
    "    name = CharField()\n",
    "    animal_type = CharField()\n",
    "\n",
    "    class Meta:\n",
    "        database = db # this model uses the \"people.db\" database"
   ]
  },
  {
   "cell_type": "markdown",
   "metadata": {},
   "source": [
    "### 创建会话"
   ]
  },
  {
   "cell_type": "code",
   "execution_count": 10,
   "metadata": {
    "collapsed": true
   },
   "outputs": [],
   "source": [
    "db.connect()"
   ]
  },
  {
   "cell_type": "markdown",
   "metadata": {},
   "source": [
    "### 创建对应的数据库"
   ]
  },
  {
   "cell_type": "code",
   "execution_count": 11,
   "metadata": {
    "collapsed": true
   },
   "outputs": [],
   "source": [
    "db.create_tables([Person, Pet])"
   ]
  },
  {
   "cell_type": "markdown",
   "metadata": {},
   "source": [
    "# 增删改查"
   ]
  },
  {
   "cell_type": "markdown",
   "metadata": {},
   "source": [
    "## 增 "
   ]
  },
  {
   "cell_type": "code",
   "execution_count": 12,
   "metadata": {
    "collapsed": true
   },
   "outputs": [],
   "source": [
    "from datetime import date\n",
    "uncle_bob = Person(name='Bob', birthday=date(1960, 1, 15), is_relative=True)"
   ]
  },
  {
   "cell_type": "code",
   "execution_count": 13,
   "metadata": {
    "collapsed": false
   },
   "outputs": [
    {
     "data": {
      "text/plain": [
       "1"
      ]
     },
     "execution_count": 13,
     "metadata": {},
     "output_type": "execute_result"
    }
   ],
   "source": [
    "uncle_bob.save()"
   ]
  },
  {
   "cell_type": "markdown",
   "metadata": {},
   "source": [
    "使用save()方法将会将这条数据保存到数据库,并返回它的主键,另一种方法是使用映射类的静态方法(`creat()`)"
   ]
  },
  {
   "cell_type": "code",
   "execution_count": 14,
   "metadata": {
    "collapsed": true
   },
   "outputs": [],
   "source": [
    "grandma = Person.create(name='Grandma', birthday=date(1935, 3, 1), is_relative=True)\n",
    "herb = Person.create(name='Herb', birthday=date(1950, 5, 5), is_relative=False)"
   ]
  },
  {
   "cell_type": "markdown",
   "metadata": {},
   "source": [
    "## 查"
   ]
  },
  {
   "cell_type": "markdown",
   "metadata": {},
   "source": [
    "获取单个数据使用get方法:"
   ]
  },
  {
   "cell_type": "code",
   "execution_count": 19,
   "metadata": {
    "collapsed": false
   },
   "outputs": [
    {
     "data": {
      "text/plain": [
       "datetime.date(1935, 3, 1)"
      ]
     },
     "execution_count": 19,
     "metadata": {},
     "output_type": "execute_result"
    }
   ],
   "source": [
    "Person.get(Person.name=='Grandma').birthday"
   ]
  },
  {
   "cell_type": "markdown",
   "metadata": {},
   "source": [
    "注意如果查不到不是返回None或者False而是报错"
   ]
  },
  {
   "cell_type": "code",
   "execution_count": 20,
   "metadata": {
    "collapsed": false
   },
   "outputs": [
    {
     "ename": "PersonDoesNotExist",
     "evalue": "Instance matching query does not exist:\nSQL: SELECT \"t1\".\"id\", \"t1\".\"name\", \"t1\".\"birthday\", \"t1\".\"is_relative\" FROM \"person\" AS t1 WHERE (\"t1\".\"name\" = ?)\nPARAMS: [u'Gran']",
     "output_type": "error",
     "traceback": [
      "\u001b[0;31m---------------------------------------------------------------------------\u001b[0m",
      "\u001b[0;31mPersonDoesNotExist\u001b[0m                        Traceback (most recent call last)",
      "\u001b[0;32m<ipython-input-20-2533abc8be73>\u001b[0m in \u001b[0;36m<module>\u001b[0;34m()\u001b[0m\n\u001b[0;32m----> 1\u001b[0;31m \u001b[0mPerson\u001b[0m\u001b[0;34m.\u001b[0m\u001b[0mget\u001b[0m\u001b[0;34m(\u001b[0m\u001b[0mPerson\u001b[0m\u001b[0;34m.\u001b[0m\u001b[0mname\u001b[0m\u001b[0;34m==\u001b[0m\u001b[0;34m'Gran'\u001b[0m\u001b[0;34m)\u001b[0m\u001b[0;34m\u001b[0m\u001b[0m\n\u001b[0m",
      "\u001b[0;32m/Users/huangsizhe/Lib/conda/anaconda/lib/python2.7/site-packages/peewee.pyc\u001b[0m in \u001b[0;36mget\u001b[0;34m(cls, *query, **kwargs)\u001b[0m\n\u001b[1;32m   4503\u001b[0m         \u001b[0;32mif\u001b[0m \u001b[0mkwargs\u001b[0m\u001b[0;34m:\u001b[0m\u001b[0;34m\u001b[0m\u001b[0m\n\u001b[1;32m   4504\u001b[0m             \u001b[0msq\u001b[0m \u001b[0;34m=\u001b[0m \u001b[0msq\u001b[0m\u001b[0;34m.\u001b[0m\u001b[0mfilter\u001b[0m\u001b[0;34m(\u001b[0m\u001b[0;34m**\u001b[0m\u001b[0mkwargs\u001b[0m\u001b[0;34m)\u001b[0m\u001b[0;34m\u001b[0m\u001b[0m\n\u001b[0;32m-> 4505\u001b[0;31m         \u001b[0;32mreturn\u001b[0m \u001b[0msq\u001b[0m\u001b[0;34m.\u001b[0m\u001b[0mget\u001b[0m\u001b[0;34m(\u001b[0m\u001b[0;34m)\u001b[0m\u001b[0;34m\u001b[0m\u001b[0m\n\u001b[0m\u001b[1;32m   4506\u001b[0m \u001b[0;34m\u001b[0m\u001b[0m\n\u001b[1;32m   4507\u001b[0m     \u001b[0;34m@\u001b[0m\u001b[0mclassmethod\u001b[0m\u001b[0;34m\u001b[0m\u001b[0m\n",
      "\u001b[0;32m/Users/huangsizhe/Lib/conda/anaconda/lib/python2.7/site-packages/peewee.pyc\u001b[0m in \u001b[0;36mget\u001b[0;34m(self)\u001b[0m\n\u001b[1;32m   2887\u001b[0m             raise self.model_class.DoesNotExist(\n\u001b[1;32m   2888\u001b[0m                 \u001b[0;34m'Instance matching query does not exist:\\nSQL: %s\\nPARAMS: %s'\u001b[0m\u001b[0;34m\u001b[0m\u001b[0m\n\u001b[0;32m-> 2889\u001b[0;31m                 % self.sql())\n\u001b[0m\u001b[1;32m   2890\u001b[0m \u001b[0;34m\u001b[0m\u001b[0m\n\u001b[1;32m   2891\u001b[0m     \u001b[0;32mdef\u001b[0m \u001b[0mfirst\u001b[0m\u001b[0;34m(\u001b[0m\u001b[0mself\u001b[0m\u001b[0;34m)\u001b[0m\u001b[0;34m:\u001b[0m\u001b[0;34m\u001b[0m\u001b[0m\n",
      "\u001b[0;31mPersonDoesNotExist\u001b[0m: Instance matching query does not exist:\nSQL: SELECT \"t1\".\"id\", \"t1\".\"name\", \"t1\".\"birthday\", \"t1\".\"is_relative\" FROM \"person\" AS t1 WHERE (\"t1\".\"name\" = ?)\nPARAMS: [u'Gran']"
     ]
    }
   ],
   "source": [
    "Person.get(Person.name=='Gran')"
   ]
  },
  {
   "cell_type": "markdown",
   "metadata": {},
   "source": [
    "查取多条:"
   ]
  },
  {
   "cell_type": "code",
   "execution_count": 21,
   "metadata": {
    "collapsed": false
   },
   "outputs": [
    {
     "name": "stdout",
     "output_type": "stream",
     "text": [
      "Bob True\n",
      "Grandma True\n",
      "Herb False\n"
     ]
    }
   ],
   "source": [
    "for person in Person.select():\n",
    "    print person.name, person.is_relative"
   ]
  },
  {
   "cell_type": "markdown",
   "metadata": {},
   "source": [
    "也可以用where方法来做筛选"
   ]
  },
  {
   "cell_type": "code",
   "execution_count": 22,
   "metadata": {
    "collapsed": true
   },
   "outputs": [],
   "source": [
    "bob_kitty = Pet.create(owner=uncle_bob, name='Kitty', animal_type='cat')\n",
    "herb_fido = Pet.create(owner=herb, name='Fido', animal_type='dog')\n",
    "herb_mittens = Pet.create(owner=herb, name='Mittens', animal_type='cat')\n",
    "herb_mittens_jr = Pet.create(owner=herb, name='Mittens Jr', animal_type='cat')"
   ]
  },
  {
   "cell_type": "code",
   "execution_count": 23,
   "metadata": {
    "collapsed": false
   },
   "outputs": [
    {
     "name": "stdout",
     "output_type": "stream",
     "text": [
      "Kitty Bob\n",
      "Mittens Herb\n",
      "Mittens Jr Herb\n"
     ]
    }
   ],
   "source": [
    "query = Pet.select().where(Pet.animal_type == 'cat')\n",
    "for pet in query:\n",
    "    print pet.name, pet.owner.name"
   ]
  },
  {
   "cell_type": "markdown",
   "metadata": {},
   "source": [
    "当然了它还支持很多其他方法,每个orm都列一遍就太蛋疼了"
   ]
  },
  {
   "cell_type": "markdown",
   "metadata": {},
   "source": [
    "## 改"
   ]
  },
  {
   "cell_type": "code",
   "execution_count": 24,
   "metadata": {
    "collapsed": false
   },
   "outputs": [
    {
     "data": {
      "text/plain": [
       "1"
      ]
     },
     "execution_count": 24,
     "metadata": {},
     "output_type": "execute_result"
    }
   ],
   "source": [
    "herb_fido.owner = uncle_bob\n",
    "herb_fido.save()\n"
   ]
  },
  {
   "cell_type": "markdown",
   "metadata": {},
   "source": [
    "直接修改属性就可以了"
   ]
  },
  {
   "cell_type": "markdown",
   "metadata": {},
   "source": [
    "## 删"
   ]
  },
  {
   "cell_type": "code",
   "execution_count": 25,
   "metadata": {
    "collapsed": false
   },
   "outputs": [
    {
     "data": {
      "text/plain": [
       "1"
      ]
     },
     "execution_count": 25,
     "metadata": {},
     "output_type": "execute_result"
    }
   ],
   "source": [
    "herb_mittens.delete_instance()"
   ]
  }
 ],
 "metadata": {
  "kernelspec": {
   "display_name": "Python 2",
   "language": "python",
   "name": "python2"
  },
  "language_info": {
   "codemirror_mode": {
    "name": "ipython",
    "version": 2
   },
   "file_extension": ".py",
   "mimetype": "text/x-python",
   "name": "python",
   "nbconvert_exporter": "python",
   "pygments_lexer": "ipython2",
   "version": "2.7.11"
  }
 },
 "nbformat": 4,
 "nbformat_minor": 0
}
