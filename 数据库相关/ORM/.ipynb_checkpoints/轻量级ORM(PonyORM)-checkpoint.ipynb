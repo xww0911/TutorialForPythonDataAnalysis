{
 "cells": [
  {
   "cell_type": "markdown",
   "metadata": {},
   "source": [
    "[Pony](https://docs.ponyorm.com/firststeps.html)是一个独特的ORM,它提供了干净的接口和select表达式的列表解析式检索功能,非常的pythonic,更有买点的是它还额外提供了一个根据类图直接生成代码的工具,非常适合原型开发"
   ]
  },
  {
   "cell_type": "code",
   "execution_count": 1,
   "metadata": {
    "collapsed": true
   },
   "outputs": [],
   "source": [
    "from pony import orm"
   ]
  },
  {
   "cell_type": "markdown",
   "metadata": {},
   "source": [
    "# 创建与连接数据库"
   ]
  },
  {
   "cell_type": "code",
   "execution_count": 2,
   "metadata": {
    "collapsed": false
   },
   "outputs": [
    {
     "name": "stdout",
     "output_type": "stream",
     "text": [
      "/Users/huangsizhe/workspace/post/ComputerScience/CodingLanguages/Python_Total_Tutorial/常用的第三方库/数据库相关/ORM\r\n"
     ]
    }
   ],
   "source": [
    "!pwd"
   ]
  },
  {
   "cell_type": "code",
   "execution_count": 3,
   "metadata": {
    "collapsed": false
   },
   "outputs": [],
   "source": [
    "db = orm.Database('sqlite', '/Users/huangsizhe/workspace/post/ComputerScience/CodingLanguages/Python_Total_Tutorial/常用的第三方库/数据库相关/ORM/ORMtest_db.sqlite', create_db=True)"
   ]
  },
  {
   "cell_type": "code",
   "execution_count": 4,
   "metadata": {
    "collapsed": true
   },
   "outputs": [],
   "source": [
    "## 数据库中表格的类"
   ]
  },
  {
   "cell_type": "code",
   "execution_count": 5,
   "metadata": {
    "collapsed": false
   },
   "outputs": [],
   "source": [
    "class Person(db.Entity):\n",
    "    name = orm.Required(str)\n",
    "    age = orm.Required(int)\n",
    "    cars = orm.Set(\"Car\")"
   ]
  },
  {
   "cell_type": "code",
   "execution_count": 6,
   "metadata": {
    "collapsed": true
   },
   "outputs": [],
   "source": [
    "class Car(db.Entity):\n",
    "    make = orm.Required(str)\n",
    "    model = orm.Required(str)\n",
    "    owner = orm.Required(Person)"
   ]
  },
  {
   "cell_type": "code",
   "execution_count": 7,
   "metadata": {
    "collapsed": false
   },
   "outputs": [
    {
     "name": "stdout",
     "output_type": "stream",
     "text": [
      "class Person(Entity):\n",
      "    id = PrimaryKey(int, auto=True)\n",
      "    name = Required(str)\n",
      "    age = Required(int)\n",
      "    cars = Set(Car)\n"
     ]
    }
   ],
   "source": [
    "orm.show(Person)"
   ]
  },
  {
   "cell_type": "markdown",
   "metadata": {},
   "source": [
    "## 创建表格\n",
    "\n",
    "> 新的数据库,里面没这些表格"
   ]
  },
  {
   "cell_type": "code",
   "execution_count": 8,
   "metadata": {
    "collapsed": true
   },
   "outputs": [],
   "source": [
    "db.generate_mapping(create_tables=True)"
   ]
  },
  {
   "cell_type": "markdown",
   "metadata": {},
   "source": [
    "> 老数据库绑定表格"
   ]
  },
  {
   "cell_type": "markdown",
   "metadata": {},
   "source": [
    "    from my_project.my_entities import db\n",
    "\n",
    "    db.bind('sqlite', 'test_db.sqlite', create_db=True)\n",
    "\n",
    "    db.generate_mapping(create_tables=True)"
   ]
  },
  {
   "cell_type": "markdown",
   "metadata": {},
   "source": [
    "## 创建条目"
   ]
  },
  {
   "cell_type": "code",
   "execution_count": 9,
   "metadata": {
    "collapsed": true
   },
   "outputs": [],
   "source": [
    "p1 = Person(name='John', age=20)\n",
    "p2 = Person(name='Mary', age=22)\n",
    "p3 = Person(name='Bob', age=30)\n",
    "c1 = Car(make='Toyota', model='Prius', owner=p2)\n",
    "c2 = Car(make='Ford', model='Explorer', owner=p3)"
   ]
  },
  {
   "cell_type": "code",
   "execution_count": 10,
   "metadata": {
    "collapsed": true
   },
   "outputs": [],
   "source": [
    "orm.commit()"
   ]
  },
  {
   "cell_type": "markdown",
   "metadata": {},
   "source": [
    "## 查询"
   ]
  },
  {
   "cell_type": "code",
   "execution_count": 11,
   "metadata": {
    "collapsed": false
   },
   "outputs": [
    {
     "data": {
      "text/plain": [
       "[Person[3], Person[4], Person[6], Person[7]]"
      ]
     },
     "execution_count": 11,
     "metadata": {},
     "output_type": "execute_result"
    }
   ],
   "source": [
    "orm.select(p for p in Person if p.age > 20)[:]"
   ]
  },
  {
   "cell_type": "code",
   "execution_count": 12,
   "metadata": {
    "collapsed": false
   },
   "outputs": [
    {
     "name": "stdout",
     "output_type": "stream",
     "text": [
      "id|name|age\n",
      "--+----+---\n",
      "3 |Mary|23 \n",
      "4 |Bob |30 \n",
      "6 |Mary|22 \n",
      "7 |Bob |30 \n"
     ]
    }
   ],
   "source": [
    "orm.select(p for p in Person if p.age > 20).show()"
   ]
  },
  {
   "cell_type": "code",
   "execution_count": 15,
   "metadata": {
    "collapsed": false
   },
   "outputs": [
    {
     "data": {
      "text/plain": [
       "[]"
      ]
     },
     "execution_count": 15,
     "metadata": {},
     "output_type": "execute_result"
    }
   ],
   "source": [
    "orm.select(p for p in Person if p.name ==\"a\")[:]"
   ]
  },
  {
   "cell_type": "code",
   "execution_count": 19,
   "metadata": {
    "collapsed": false
   },
   "outputs": [],
   "source": [
    "s = Person.get(name=\"a\")"
   ]
  },
  {
   "cell_type": "code",
   "execution_count": 21,
   "metadata": {
    "collapsed": false
   },
   "outputs": [
    {
     "data": {
      "text/plain": [
       "NoneType"
      ]
     },
     "execution_count": 21,
     "metadata": {},
     "output_type": "execute_result"
    }
   ],
   "source": [
    "type(s)"
   ]
  },
  {
   "cell_type": "code",
   "execution_count": 22,
   "metadata": {
    "collapsed": false
   },
   "outputs": [
    {
     "data": {
      "text/plain": [
       "NoneType"
      ]
     },
     "execution_count": 22,
     "metadata": {},
     "output_type": "execute_result"
    }
   ],
   "source": [
    "type(None)"
   ]
  },
  {
   "cell_type": "code",
   "execution_count": 27,
   "metadata": {
    "collapsed": false
   },
   "outputs": [
    {
     "name": "stdout",
     "output_type": "stream",
     "text": [
      "id|make  |model   |owner    \n",
      "--+------+--------+---------\n",
      "1 |Toyota|Prius   |Person[3]\n",
      "2 |Ford  |Explorer|Person[4]\n"
     ]
    }
   ],
   "source": [
    "Car.select().show()"
   ]
  },
  {
   "cell_type": "code",
   "execution_count": 35,
   "metadata": {
    "collapsed": false
   },
   "outputs": [
    {
     "name": "stdout",
     "output_type": "stream",
     "text": [
      "id|name|age\n",
      "--+----+---\n",
      "1 |John|20 \n",
      "2 |John|20 \n",
      "3 |Mary|22 \n",
      "4 |Bob |30 \n"
     ]
    }
   ],
   "source": [
    "Person.select().show()"
   ]
  },
  {
   "cell_type": "code",
   "execution_count": 32,
   "metadata": {
    "collapsed": false
   },
   "outputs": [
    {
     "data": {
      "text/plain": [
       "Person[3]"
      ]
     },
     "execution_count": 32,
     "metadata": {},
     "output_type": "execute_result"
    }
   ],
   "source": [
    "Car.get(id=1).owner"
   ]
  },
  {
   "cell_type": "markdown",
   "metadata": {},
   "source": [
    "## 更新数据"
   ]
  },
  {
   "cell_type": "code",
   "execution_count": 37,
   "metadata": {
    "collapsed": false
   },
   "outputs": [],
   "source": [
    "Person.get(name=\"Mary\").age += 1"
   ]
  },
  {
   "cell_type": "code",
   "execution_count": 38,
   "metadata": {
    "collapsed": false
   },
   "outputs": [
    {
     "data": {
      "text/plain": [
       "23"
      ]
     },
     "execution_count": 38,
     "metadata": {},
     "output_type": "execute_result"
    }
   ],
   "source": [
    "Person.get(name=\"Mary\").age"
   ]
  },
  {
   "cell_type": "code",
   "execution_count": 40,
   "metadata": {
    "collapsed": false
   },
   "outputs": [],
   "source": [
    "orm.commit()"
   ]
  },
  {
   "cell_type": "markdown",
   "metadata": {},
   "source": [
    "## 删除数据"
   ]
  },
  {
   "cell_type": "code",
   "execution_count": 42,
   "metadata": {
    "collapsed": false
   },
   "outputs": [],
   "source": [
    "Person.get(id=1).delete()"
   ]
  },
  {
   "cell_type": "code",
   "execution_count": 43,
   "metadata": {
    "collapsed": false
   },
   "outputs": [
    {
     "name": "stdout",
     "output_type": "stream",
     "text": [
      "id|name|age\n",
      "--+----+---\n",
      "2 |John|20 \n",
      "3 |Mary|23 \n",
      "4 |Bob |30 \n"
     ]
    }
   ],
   "source": [
    "Person.select().show()"
   ]
  },
  {
   "cell_type": "code",
   "execution_count": 44,
   "metadata": {
    "collapsed": true
   },
   "outputs": [],
   "source": [
    "orm.commit()"
   ]
  },
  {
   "cell_type": "markdown",
   "metadata": {},
   "source": [
    "## 定义关系"
   ]
  },
  {
   "cell_type": "markdown",
   "metadata": {},
   "source": [
    "> 一对一\n",
    "\n",
    "一对一关系有两种:\n",
    "\n",
    "+ Optional-Required:\n",
    "\n",
    "+ Optional-Optional:"
   ]
  },
  {
   "cell_type": "markdown",
   "metadata": {},
   "source": [
    "    class Person(db.Entity):\n",
    "        passport = orm.Optional(\"Passport\")\n",
    "\n",
    "    class Passport(db.Entity):\n",
    "        person = orm.Required(\"Person\")"
   ]
  },
  {
   "cell_type": "markdown",
   "metadata": {},
   "source": [
    "> 一对多\n",
    "\n",
    "一对多也是两种可能\n",
    "\n",
    "+ Set-Required\n",
    "\n",
    "+ Set-Optional\n",
    "\n",
    "\n",
    "   \n",
    "   \n",
    "    class Order(db.Entity):\n",
    "        items = Set(\"OrderItem\")\n",
    "\n",
    "    class OrderItem(db.Entity):\n",
    "        order = Required(Order)"
   ]
  },
  {
   "cell_type": "markdown",
   "metadata": {},
   "source": [
    "> 多对多\n",
    "\n",
    "多对多就是用Set\n",
    "\n",
    "    class Product(db.Entity):\n",
    "        tags = Set(\"Tag\")\n",
    "\n",
    "    class Tag(db.Entity):\n",
    "        products = Set(Product)"
   ]
  },
  {
   "cell_type": "markdown",
   "metadata": {},
   "source": [
    "> 提及自己\n",
    "\n",
    "这种类型分为堆成关系和非对称关系,比如你是你妈妈的孩子,你妈妈不是你的孩子,这种就是非对称关系,比如你是你老婆的配偶 ,你老婆也是你的配偶,这就是对称关系,这两种又可以分成一对多,一对一这两种,也就是一共四种关系模型\n",
    "\n",
    "\n",
    "    class Person(db.Entity):\n",
    "        name = Required(str)\n",
    "        spouse = Optional(\"Person\", reverse=\"spouse\") # 配偶在Person中找,是一对一(要不就犯法了),对称关系\n",
    "        friends = Set(\"Person\", reverse=\"friends\")    # 好友也在Person中找,是一对多,对称关系\n",
    "        manager = Optional(\"Person\", reverse=\"employees\") # 主管,一对一,非对称\n",
    "        employees = Set(\"Person\", reverse=\"manager\") # 员工,一对多,非对称\n"
   ]
  },
  {
   "cell_type": "markdown",
   "metadata": {},
   "source": [
    "> 多重关系\n",
    "\n",
    "多重关系比较复杂了,像下面这个推特的模型,用户写的推特和用户之间的关系就要像如下的定义方式"
   ]
  },
  {
   "cell_type": "markdown",
   "metadata": {},
   "source": [
    "    class User(db.Entity):\n",
    "        tweets = Set(\"Tweet\", reverse=\"author\")\n",
    "        favorites = Set(\"Tweet\", reverse=\"favorited\")\n",
    "\n",
    "    class Tweet(db.Entity):\n",
    "        author = Required(User, reverse=\"tweets\")\n",
    "        favorited = Set(User, reverse=\"favorites\")"
   ]
  },
  {
   "cell_type": "markdown",
   "metadata": {},
   "source": [
    "## ER图原型设计\n",
    "\n",
    "pony官方还给了一个原型设计的工具https://editor.ponyorm.com/"
   ]
  }
 ],
 "metadata": {
  "kernelspec": {
   "display_name": "Python 2",
   "language": "python",
   "name": "python2"
  },
  "language_info": {
   "codemirror_mode": {
    "name": "ipython",
    "version": 2
   },
   "file_extension": ".py",
   "mimetype": "text/x-python",
   "name": "python",
   "nbconvert_exporter": "python",
   "pygments_lexer": "ipython2",
   "version": "2.7.11"
  }
 },
 "nbformat": 4,
 "nbformat_minor": 0
}
